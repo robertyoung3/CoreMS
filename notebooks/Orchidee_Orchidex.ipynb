{
 "cells": [
  {
   "cell_type": "markdown",
   "metadata": {},
   "source": [
    "# CoreMS Assignments to Orchidee Orchidex\n",
    "\n",
    "`CoreMS` framework for mass spectrum\n"
   ]
  },
  {
   "cell_type": "markdown",
   "metadata": {},
   "source": [
    "### 1. Import Data File\n"
   ]
  },
  {
   "cell_type": "code",
   "execution_count": 1,
   "metadata": {},
   "outputs": [
    {
     "name": "stdout",
     "output_type": "stream",
     "text": [
      "/home/corems/data/user_data\n"
     ]
    }
   ],
   "source": [
    "from pathlib import Path\n",
    "\n",
    "data_dir = Path.cwd() / \"data\" / \"user_data\"\n",
    "print(data_dir)"
   ]
  },
  {
   "cell_type": "code",
   "execution_count": 2,
   "metadata": {},
   "outputs": [
    {
     "name": "stdout",
     "output_type": "stream",
     "text": [
      "0: /home/corems/data/user_data/1p5_NegESI_SRFA_AfterSW28_sum50_ABS_3sigma.pks\n",
      "1: /home/corems/data/user_data/2020September23NegESI_PFAS_AFFF_1_10000_sum250_Rephased.pks\n",
      "2: /home/corems/data/user_data/2020September23PosESI_PFAS_AFFF_1_10000_sum250_Rephased.pks\n",
      "3: /home/corems/data/user_data/2021May20_SRFA_Sum568_6p3s_1E6_3sigma_101221.pks\n",
      "4: /home/corems/data/user_data/2023July28_NegESI_Guardian_AFFFC_wSRFA_4s_3E6_sum150_3sigma.pks\n",
      "5: /home/corems/data/user_data/2023July28_NegESI_Guardian_AFFFC_wSRFA_4s_8E5_sum150_3sigma.pks\n",
      "6: /home/corems/data/user_data/2023July28_NegESI_Jacobs3M_AFFF_wSRFA_4s_8E5_sum100_3sigma.pks\n",
      "7: /home/corems/data/user_data/2023July28_NegESI_PetersonBucket_AFFF_wSRFA_4s_3E6_sum100_3sigma.pks\n",
      "8: /home/corems/data/user_data/2024March21_NegESI_Angus_Alcoseal_106004E_sum250_3sigma.pks\n",
      "9: /home/corems/data/user_data/2024March21_NegESI_Angus_Alcoseal_1060_24_sum250_3sigma.pks\n",
      "10: /home/corems/data/user_data/2024March21_NegESI_Angus_Alcoseal_1061_01_02_sum250_3sigma.pks\n",
      "11: /home/corems/data/user_data/2024March21_NegESI_Ansulite_AC5_sum100_3sigma.pks\n",
      "12: /home/corems/data/user_data/2024March21_NegESI_Ansulite_sum100_3sigma.pks\n",
      "13: /home/corems/data/user_data/2024March21_NegESI_Orchidee_Orchidex_AFFF_sum100_3sigma.pks\n",
      "14: /home/corems/data/user_data/2024March21_NegESI_Tyco_Towalex_sum100_3sigma.pks\n",
      "15: /home/corems/data/user_data/AFFF_PetersonBucket.csv\n"
     ]
    }
   ],
   "source": [
    "filepaths = list(data_dir.iterdir())\n",
    "for idx, filepath in enumerate(filepaths):\n",
    "    print(f\"{idx}: {filepath}\")"
   ]
  },
  {
   "cell_type": "markdown",
   "metadata": {},
   "source": [
    "### 2. Import Centroid Mass List Files\n",
    "\n",
    "See [MS_file_imports.md](/home/corems/docs/user_guide/MS_file_imports.md) for details on the class methods, parameters and settings used for mass list file imports."
   ]
  },
  {
   "cell_type": "markdown",
   "metadata": {},
   "source": [
    "#### .pks Files\n",
    "\n",
    "`.pks` files are .txt files exported from Predator Analysis software in a custom format. When the .pks file extension is detected, this format is used for importing the mass spectral data with user-specified `MassSpectrumSetting`s.\n",
    "\n",
    "In the following example, the noise threshold method is `\"signal_noise\"`, and the minimum is set to `6` (default=6). The m/z range is also set explicitly.\n",
    "\n",
    "Filtering based on noise threshold and mz range occur when `auto_process=True`. Settings are read from a JSON or other file when `loadSettings=True`. Currently, this feature is not fully implemented.\n",
    "\n",
    "The total number of peaks (92,307) is illustrated with `len(mass_spectrum)`."
   ]
  },
  {
   "cell_type": "code",
   "execution_count": 4,
   "metadata": {},
   "outputs": [
    {
     "name": "stdout",
     "output_type": "stream",
     "text": [
      "file locations: /home/corems/data/user_data/2024March21_NegESI_Orchidee_Orchidex_AFFF_sum100_3sigma.pks\n"
     ]
    }
   ],
   "source": [
    "# Imports\n",
    "from corems.encapsulation.factory.parameters import MSParameters\n",
    "from corems.mass_spectrum.input.massList import ReadMassList\n",
    "\n",
    "# Choose noise threshold method and minimum value\n",
    "MSParameters.mass_spectrum.noise_threshold_method = \"signal_noise\"\n",
    "MSParameters.mass_spectrum.noise_threshold_min_s2n = 4\n",
    "\n",
    "# Set m/z range for peak picking and noise threshold\n",
    "MSParameters.mass_spectrum.noise_min_mz = 50.0\n",
    "MSParameters.mass_spectrum.noise_max_mz = 1500.0\n",
    "MSParameters.mass_spectrum.min_picking_mz = 50.0\n",
    "MSParameters.mass_spectrum.max_picking_mz = 1500.0\n",
    "\n",
    "# Set Kendrick base\n",
    "kb = {\"C\": 2, \"H\": 4, \"O\": 1}\n",
    "MSParameters.ms_peak.kendrick_base = kb\n",
    "\n",
    "# Specify file path\n",
    "file_location = filepaths[13]\n",
    "print(f\"file locations: {file_location}\")"
   ]
  },
  {
   "cell_type": "code",
   "execution_count": 5,
   "metadata": {},
   "outputs": [
    {
     "name": "stdout",
     "output_type": "stream",
     "text": [
      "32397\n",
      "Mass spectrum label: CoreMS_Centroid\n",
      "Baseline noise: 0.014021604938271608\n",
      "Baseline noise std: 0.00014538970016436873\n",
      "Is centroid: True\n"
     ]
    },
    {
     "data": {
      "image/png": "[encoded data removed]",
      "text/plain": [
       "<Figure size 640x480 with 1 Axes>"
      ]
     },
     "metadata": {},
     "output_type": "display_data"
    }
   ],
   "source": [
    "mass_list_reader = ReadMassList(file_location)\n",
    "\n",
    "# Import centroided spectrum\n",
    "mass_spectrum = mass_list_reader.get_mass_spectrum(\n",
    "    polarity=-1, auto_process=True, loadSettings=False\n",
    ")\n",
    "print(len(mass_spectrum))\n",
    "\n",
    "# Debug information to understand the issue\n",
    "print(f\"Mass spectrum label: {mass_spectrum.label}\")\n",
    "print(f\"Baseline noise: {mass_spectrum.baseline_noise}\")\n",
    "print(f\"Baseline noise std: {mass_spectrum.baseline_noise_std}\")\n",
    "print(f\"Is centroid: {mass_spectrum.is_centroid}\")\n",
    "\n",
    "# Check if noise threshold values exist before plotting\n",
    "if mass_spectrum.baseline_noise is not None and mass_spectrum.baseline_noise_std is not None:\n",
    "    # Plot the mass spectrum\n",
    "    mass_spectrum.plot_profile_and_noise_threshold()\n",
    "else:\n",
    "    print(\"Noise threshold not calculated. Calculating manually...\")\n",
    "    mass_spectrum.cal_noise_threshold()\n",
    "    print(f\"After manual calculation - Baseline noise: {mass_spectrum.baseline_noise}\")\n",
    "    print(f\"After manual calculation - Baseline noise std: {mass_spectrum.baseline_noise_std}\")\n",
    "    # Now try plotting\n",
    "    mass_spectrum.plot_profile_and_noise_threshold()"
   ]
  },
  {
   "cell_type": "markdown",
   "metadata": {},
   "source": [
    "### 3. Access mass spectrum peak objects\n"
   ]
  },
  {
   "cell_type": "code",
   "execution_count": 6,
   "metadata": {},
   "outputs": [
    {
     "name": "stdout",
     "output_type": "stream",
     "text": [
      "Most abundant peaks (top 20):\n",
      "1: 209.085304 m/z | 100.0000 abundance | 3804047.0 resolving power | 35057.4 S/N | -0.9608 KMD\n",
      "2: 369.195254 m/z | 46.4700 abundance | 2253905.0 resolving power | 16290.7 S/N | -0.9754 KMD\n",
      "3: 325.184295 m/z | 45.9180 abundance | 2456663.0 resolving power | 16097.1 S/N | -0.9907 KMD\n",
      "4: 325.169045 m/z | 41.3120 abundance | 2514983.0 resolving power | 14482.2 S/N | -0.9754 KMD\n",
      "5: 281.142823 m/z | 38.1170 abundance | 2809133.0 resolving power | 13362.3 S/N | -0.9754 KMD\n",
      "6: 255.232954 m/z | 36.4920 abundance | 2962816.0 resolving power | 12792.6 S/N | -0.0810 KMD\n",
      "7: 341.163953 m/z | 36.3320 abundance | 2423591.0 resolving power | 12736.5 S/N | -0.9608 KMD\n",
      "8: 297.137741 m/z | 34.3430 abundance | 2685448.0 resolving power | 12039.0 S/N | -0.9608 KMD\n",
      "9: 413.221503 m/z | 32.0300 abundance | 2200225.0 resolving power | 11228.4 S/N | -0.9755 KMD\n",
      "10: 237.116604 m/z | 31.5290 abundance | 3300068.0 resolving power | 11052.5 S/N | -0.9754 KMD\n",
      "11: 283.264254 m/z | 30.2700 abundance | 2712627.0 resolving power | 10611.4 S/N | -0.0956 KMD\n",
      "12: 385.190169 m/z | 29.5440 abundance | 2230000.0 resolving power | 10356.8 S/N | -0.9608 KMD\n",
      "13: 311.168644 m/z | 25.8840 abundance | 2492096.0 resolving power | 9073.7 S/N | -0.9834 KMD\n",
      "14: 335.049409 m/z | 23.6110 abundance | 2518988.0 resolving power | 8276.7 S/N | -0.8499 KMD\n",
      "15: 569.078483 m/z | 23.4330 abundance | 1346684.0 resolving power | 8214.4 S/N | -0.7396 KMD\n",
      "16: 339.199949 m/z | 21.3510 abundance | 2350211.0 resolving power | 7484.4 S/N | -0.9980 KMD\n",
      "17: 429.216378 m/z | 21.0620 abundance | 2172174.0 resolving power | 7383.2 S/N | -0.9608 KMD\n",
      "18: 457.247678 m/z | 20.2250 abundance | 1996136.0 resolving power | 7089.7 S/N | -0.9754 KMD\n",
      "19: 371.138125 m/z | 17.9620 abundance | 2283176.0 resolving power | 6296.1 S/N | -0.9171 KMD\n",
      "20: 473.242592 m/z | 14.4820 abundance | 1810067.0 resolving power | 5076.4 S/N | -0.9608 KMD\n"
     ]
    }
   ],
   "source": [
    "n = 20\n",
    "most_abundant_peaks = mass_spectrum.sort_by_abundance(reverse=True)[:n]\n",
    "\n",
    "print(f\"Most abundant peaks (top {n}):\")\n",
    "for i, mspeak in enumerate(most_abundant_peaks):\n",
    "    print(\n",
    "        f\"{i+1}: {mspeak.mz_exp:.6f} m/z | \"\n",
    "        f\"{mspeak.abundance:.4f} abundance | \" \n",
    "        f\"{mspeak.resolving_power:.1f} resolving power | \" \n",
    "        f\"{mspeak.signal_to_noise:.1f} S/N | \"\n",
    "        f\"{mspeak.kmd:.4f} KMD\" \n",
    "    )"
   ]
  },
  {
   "cell_type": "code",
   "execution_count": 7,
   "metadata": {},
   "outputs": [
    {
     "name": "stdout",
     "output_type": "stream",
     "text": [
      "Kendrick base: {'C': 2, 'H': 4, 'O': 1}\n"
     ]
    }
   ],
   "source": [
    "print(f\"Kendrick base: {mass_spectrum.mspeaks_settings.kendrick_base}\")\n"
   ]
  },
  {
   "cell_type": "markdown",
   "metadata": {},
   "source": [
    "### 4. Molecular formula search\n",
    "The formula database isn't built until the `SearchMolecularFormulas` method is run.\n",
    "\n",
    "See [database_initialization.md](/home/corems/docs/user_guide/database_initialization.md) and [molecular_formula_search.md](/home/corems/docs/user_guide/molecular_formula_search.md) for details about the molecular formula database and search process. Both database initialization and molecular formula searching rely establishing the relevant heteroatom space.\n",
    "\n",
    "Numerous parameters can be set to facilitate the molecular search process, including element number and element ratio constraints, and ppm and isotope abundance error constraints. Many of these constraints are illustrated below. In the following example, `first_hit = False`, meaning that peaks aren't skipped when a molecular formula has already been assigned."
   ]
  },
  {
   "cell_type": "code",
   "execution_count": 8,
   "metadata": {},
   "outputs": [
    {
     "name": "stdout",
     "output_type": "stream",
     "text": [
      "'runworker'  411.10 ms\n"
     ]
    },
    {
     "name": "stderr",
     "output_type": "stream",
     "text": [
      "Loading molecular formula database: 506702it [00:37, 13509.45it/s]\n",
      "Started molecular formula search for class {\"N\": 3, \"S\": 2, \"O\": 10}, (de)protonated : 100%|██████████| 300/300 [00:49<00:00,  6.07it/s]\n",
      "Loading molecular formula database: 217540it [00:19, 11391.90it/s]\n",
      "Started molecular formula search for class {\"N\": 4, \"S\": 2, \"O\": 30}, (de)protonated : 100%|██████████| 150/150 [00:17<00:00,  8.53it/s]\n"
     ]
    },
    {
     "name": "stdout",
     "output_type": "stream",
     "text": [
      "'run_molecular_formula'  124846.78 ms\n",
      "10386 assigned peaks and 22011 unassigned peaks, total  = 32.06 %, relative abundance = 68.73 %, RMS error (best candidate) (ppm) = 0.077\n"
     ]
    },
    {
     "data": {
      "text/plain": [
       "(10386, 22011, 32.05852393740161, 68.73098988796727, 0.077267824801067)"
      ]
     },
     "execution_count": 8,
     "metadata": {},
     "output_type": "execute_result"
    }
   ],
   "source": [
    "from corems.molecular_id.search.molecularFormulaSearch import SearchMolecularFormulas\n",
    "\n",
    "# Ion Types\n",
    "mass_spectrum.molecular_search_settings.isProtonated = True\n",
    "mass_spectrum.molecular_search_settings.isRadical = False\n",
    "mass_spectrum.molecular_search_settings.isAdduct = False\n",
    "\n",
    "# Atom constraints\n",
    "mass_spectrum.molecular_search_settings.usedAtoms[\"C\"] = (1, 100)\n",
    "mass_spectrum.molecular_search_settings.usedAtoms[\"H\"] = (4, 200)   # Max H for C100 is 202\n",
    "mass_spectrum.molecular_search_settings.usedAtoms[\"N\"] = (0, 4)\n",
    "mass_spectrum.molecular_search_settings.usedAtoms[\"O\"] = (1, 30)\n",
    "# mass_spectrum.molecular_search_settings.usedAtoms[\"P\"] = (0, 1)\n",
    "mass_spectrum.molecular_search_settings.usedAtoms[\"S\"] = (0, 2)\n",
    "\n",
    "# Mass error constraints\n",
    "mass_spectrum.molecular_search_settings.error_method = \"None\"\n",
    "mass_spectrum.molecular_search_settings.min_ppm_error = -0.2   # Bahureksa paper 0.4\n",
    "mass_spectrum.molecular_search_settings.max_ppm_error = 0.2\n",
    "\n",
    "# DBE constraints - Can always throw out high Mod AI (> 0.5 = aromatic and > 0.67 = condensed aromatic)\n",
    "mass_spectrum.molecular_search_settings.min_dbe = 0\n",
    "mass_spectrum.molecular_search_settings.max_dbe = 66   # Max DBE 66 for C100 (empirical Max DBE = 2C/3)\n",
    "\n",
    "# H/C ratio constraints (Kind & Fiehn)\n",
    "mass_spectrum.molecular_search_settings.min_hc_filter = 0.2\n",
    "mass_spectrum.molecular_search_settings.max_hc_filter = 3.1\n",
    "\n",
    "# O/C ratio constraints (Kind & Fiehn)\n",
    "mass_spectrum.molecular_search_settings.min_oc_filter = 0\n",
    "mass_spectrum.molecular_search_settings.max_oc_filter = 1.2\n",
    "\n",
    "# O/P ratio constraints\n",
    "# mass_spectrum.molecular_search_settings.min_op_filter = 2\n",
    "\n",
    "# Isotope abundance constraints\n",
    "mass_spectrum.molecular_search_settings.min_abun_error = -15\n",
    "mass_spectrum.molecular_search_settings.max_abun_error = 15\n",
    "\n",
    "\n",
    "SearchMolecularFormulas(mass_spectrum, first_hit=True).run_worker_mass_spectrum()\n",
    "mass_spectrum.percentile_assigned(report_error=True)\n"
   ]
  },
  {
   "cell_type": "markdown",
   "metadata": {},
   "source": [
    "### 5. Visualizing Results\n",
    "\n",
    "The tools for exploring and visualizing molecular formula assignment results are primarily contained in `HeteroatomsClassification`, consistent with the use of heteroatom space to define search space."
   ]
  },
  {
   "cell_type": "code",
   "execution_count": 9,
   "metadata": {},
   "outputs": [
    {
     "data": {
      "text/plain": [
       "<Axes: xlabel='$\\t{m/z}$', ylabel='Abundance'>"
      ]
     },
     "execution_count": 9,
     "metadata": {},
     "output_type": "execute_result"
    },
    {
     "data": {
      "image/png": "[encoded data removed]",
      "text/plain": [
       "<Figure size 640x480 with 1 Axes>"
      ]
     },
     "metadata": {},
     "output_type": "display_data"
    }
   ],
   "source": [
    "from corems.molecular_id.factory.classification import HeteroatomsClassification\n",
    "\n",
    "mass_spectrum_by_classes = HeteroatomsClassification(\n",
    "    mass_spectrum, choose_molecular_formula=True\n",
    ")\n",
    "mass_spectrum_by_classes.plot_ms_assigned_unassigned()"
   ]
  },
  {
   "cell_type": "markdown",
   "metadata": {},
   "source": [
    "### 6. Exploring Mass Spectrum"
   ]
  },
  {
   "cell_type": "code",
   "execution_count": 10,
   "metadata": {},
   "outputs": [
    {
     "name": "stdout",
     "output_type": "stream",
     "text": [
      "Abundance: 14.48 | m/z: 473.242592 | Error: 0.000060 | DBE: 0.0 | H/C: 2.100000 | O/C: 0.500000 | AI mod: 0.000000 | KMD: -0.9608 | Class: S1 O10 | Formula: C₂₀H₄₂O₁₀S₁\n",
      "Abundance: 17.96 | m/z: 371.138127 | Error: -0.005660 | DBE: 1.0 | H/C: 2.000000 | O/C: 0.642857 | AI mod: 0.000000 | KMD: -0.9171 | Class: S1 O9 | Formula: C₁₄H₂₈O₉S₁\n",
      "Abundance: 20.23 | m/z: 457.247678 | Error: 0.000105 | DBE: 0.0 | H/C: 2.100000 | O/C: 0.450000 | AI mod: 0.000000 | KMD: -0.9754 | Class: S1 O9 | Formula: C₂₀H₄₂O₉S₁\n",
      "Abundance: 21.06 | m/z: 429.216378 | Error: -0.000053 | DBE: 0.0 | H/C: 2.111111 | O/C: 0.500000 | AI mod: 0.000000 | KMD: -0.9608 | Class: S1 O9 | Formula: C₁₈H₃₈O₉S₁\n",
      "Abundance: 21.35 | m/z: 339.199940 | Error: 0.027971 | DBE: 4.0 | H/C: 1.684211 | O/C: 0.157895 | AI mod: 0.090909 | KMD: -0.9980 | Class: S1 O3 | Formula: C₁₉H₃₂O₃S₁\n",
      "Abundance: 23.43 | m/z: 569.078423 | Error: 0.105101 | DBE: 13.0 | H/C: 0.956522 | O/C: 0.739130 | AI mod: 0.310345 | KMD: -0.7396 | Class: O17 | Formula: C₂₃H₂₂O₁₇\n",
      "Abundance: 25.88 | m/z: 311.168639 | Error: 0.014194 | DBE: 4.0 | H/C: 1.647059 | O/C: 0.176471 | AI mod: 0.103448 | KMD: -0.9834 | Class: S1 O3 | Formula: C₁₇H₂₈O₃S₁\n",
      "Abundance: 29.54 | m/z: 385.190163 | Error: 0.016681 | DBE: 0.0 | H/C: 2.125000 | O/C: 0.500000 | AI mod: 0.000000 | KMD: -0.9608 | Class: S1 O8 | Formula: C₁₆H₃₄O₈S₁\n",
      "Abundance: 30.27 | m/z: 283.264254 | Error: -0.000166 | DBE: 1.0 | H/C: 2.000000 | O/C: 0.111111 | AI mod: 0.000000 | KMD: -0.0956 | Class: O2 | Formula: C₁₈H₃₆O₂\n",
      "Abundance: 31.53 | m/z: 237.116604 | Error: -0.000040 | DBE: 0.0 | H/C: 2.200000 | O/C: 0.400000 | AI mod: 0.000000 | KMD: -0.9754 | Class: S1 O4 | Formula: C₁₀H₂₂O₄S₁\n",
      "Abundance: 32.03 | m/z: 413.221463 | Error: 0.097760 | DBE: 0.0 | H/C: 2.111111 | O/C: 0.444444 | AI mod: 0.000000 | KMD: -0.9754 | Class: S1 O8 | Formula: C₁₈H₃₈O₈S₁\n",
      "Abundance: 34.34 | m/z: 297.137733 | Error: 0.025990 | DBE: 0.0 | H/C: 2.166667 | O/C: 0.500000 | AI mod: 0.000000 | KMD: -0.9608 | Class: S1 O6 | Formula: C₁₂H₂₆O₆S₁\n",
      "Abundance: 36.33 | m/z: 341.163948 | Error: 0.014286 | DBE: 0.0 | H/C: 2.142857 | O/C: 0.500000 | AI mod: 0.000000 | KMD: -0.9608 | Class: S1 O7 | Formula: C₁₄H₃₀O₇S₁\n",
      "Abundance: 36.49 | m/z: 255.232954 | Error: -0.000071 | DBE: 1.0 | H/C: 2.000000 | O/C: 0.125000 | AI mod: 0.000000 | KMD: -0.0810 | Class: O2 | Formula: C₁₆H₃₂O₂\n",
      "Abundance: 38.12 | m/z: 281.142819 | Error: 0.016867 | DBE: 0.0 | H/C: 2.166667 | O/C: 0.416667 | AI mod: 0.000000 | KMD: -0.9754 | Class: S1 O5 | Formula: C₁₂H₂₆O₅S₁\n",
      "Abundance: 41.31 | m/z: 325.169033 | Error: 0.036884 | DBE: 0.0 | H/C: 2.142857 | O/C: 0.428571 | AI mod: 0.000000 | KMD: -0.9754 | Class: S1 O6 | Formula: C₁₄H₃₀O₆S₁\n",
      "Abundance: 45.92 | m/z: 325.184290 | Error: 0.016152 | DBE: 4.0 | H/C: 1.666667 | O/C: 0.166667 | AI mod: 0.096774 | KMD: -0.9907 | Class: S1 O3 | Formula: C₁₈H₃₀O₃S₁\n",
      "Abundance: 46.47 | m/z: 369.195248 | Error: 0.015561 | DBE: 0.0 | H/C: 2.125000 | O/C: 0.437500 | AI mod: 0.000000 | KMD: -0.9754 | Class: S1 O7 | Formula: C₁₆H₃₄O₇S₁\n",
      "Abundance: 100.00 | m/z: 209.085304 | Error: 0.000093 | DBE: 0.0 | H/C: 2.250000 | O/C: 0.500000 | AI mod: 0.000000 | KMD: -0.9608 | Class: S1 O4 | Formula: C₈H₁₈O₄S₁\n"
     ]
    }
   ],
   "source": [
    "for mspeaks in mass_spectrum.sort_by_abundance()[-20:]:\n",
    "    for mf in mspeaks:\n",
    "        print(f\"Abundance: {mspeaks.abundance:.2f} | \"\n",
    "              f\"m/z: {mf.mz_calc:.6f} | \"\n",
    "              f\"Error: {mf.mz_error:.6f} | \"\n",
    "              f\"DBE: {mf.dbe} | \"\n",
    "              f\"H/C: {mf.H_C:.6f} | \"\n",
    "              f\"O/C: {mf.O_C:.6f} | \"\n",
    "              f\"AI mod: {mf.A_I_mod:.6f} | \"\n",
    "              f\"KMD: {mf.kmd:.4f} | \"\n",
    "              f\"Class: {mf.class_label} | \"\n",
    "              f\"Formula: {mf.string_formated}\")"
   ]
  },
  {
   "cell_type": "markdown",
   "metadata": {},
   "source": [
    "### 7. Exporting Molecular Formula Results"
   ]
  },
  {
   "cell_type": "code",
   "execution_count": 11,
   "metadata": {},
   "outputs": [
    {
     "data": {
      "text/html": [
       "<div>\n",
       "<style scoped>\n",
       "    .dataframe tbody tr th:only-of-type {\n",
       "        vertical-align: middle;\n",
       "    }\n",
       "\n",
       "    .dataframe tbody tr th {\n",
       "        vertical-align: top;\n",
       "    }\n",
       "\n",
       "    .dataframe thead th {\n",
       "        text-align: right;\n",
       "    }\n",
       "</style>\n",
       "<table border=\"1\" class=\"dataframe\">\n",
       "  <thead>\n",
       "    <tr style=\"text-align: right;\">\n",
       "      <th></th>\n",
       "      <th>Index</th>\n",
       "      <th>m/z</th>\n",
       "      <th>Calibrated m/z</th>\n",
       "      <th>Calculated m/z</th>\n",
       "      <th>Peak Height</th>\n",
       "      <th>Peak Area</th>\n",
       "      <th>Resolving Power</th>\n",
       "      <th>S/N</th>\n",
       "      <th>Ion Charge</th>\n",
       "      <th>m/z Error (ppm)</th>\n",
       "      <th>...</th>\n",
       "      <th>H</th>\n",
       "      <th>O</th>\n",
       "      <th>N</th>\n",
       "      <th>S</th>\n",
       "      <th>13C</th>\n",
       "      <th>15N</th>\n",
       "      <th>17O</th>\n",
       "      <th>18O</th>\n",
       "      <th>33S</th>\n",
       "      <th>34S</th>\n",
       "    </tr>\n",
       "  </thead>\n",
       "  <tbody>\n",
       "    <tr>\n",
       "      <th>0</th>\n",
       "      <td>300</td>\n",
       "      <td>180.066591</td>\n",
       "      <td>180.066591</td>\n",
       "      <td>180.066617</td>\n",
       "      <td>0.021</td>\n",
       "      <td>NaN</td>\n",
       "      <td>5207211.0</td>\n",
       "      <td>6.465</td>\n",
       "      <td>-1</td>\n",
       "      <td>-0.144754</td>\n",
       "      <td>...</td>\n",
       "      <td>11.0</td>\n",
       "      <td>3.0</td>\n",
       "      <td>1.0</td>\n",
       "      <td>NaN</td>\n",
       "      <td>NaN</td>\n",
       "      <td>NaN</td>\n",
       "      <td>NaN</td>\n",
       "      <td>NaN</td>\n",
       "      <td>NaN</td>\n",
       "      <td>NaN</td>\n",
       "    </tr>\n",
       "    <tr>\n",
       "      <th>1</th>\n",
       "      <td>311</td>\n",
       "      <td>180.139410</td>\n",
       "      <td>180.139410</td>\n",
       "      <td>180.139388</td>\n",
       "      <td>0.015</td>\n",
       "      <td>NaN</td>\n",
       "      <td>4706771.0</td>\n",
       "      <td>4.324</td>\n",
       "      <td>-1</td>\n",
       "      <td>0.123882</td>\n",
       "      <td>...</td>\n",
       "      <td>19.0</td>\n",
       "      <td>1.0</td>\n",
       "      <td>1.0</td>\n",
       "      <td>NaN</td>\n",
       "      <td>NaN</td>\n",
       "      <td>NaN</td>\n",
       "      <td>NaN</td>\n",
       "      <td>NaN</td>\n",
       "      <td>NaN</td>\n",
       "      <td>NaN</td>\n",
       "    </tr>\n",
       "    <tr>\n",
       "      <th>2</th>\n",
       "      <td>424</td>\n",
       "      <td>181.054004</td>\n",
       "      <td>181.054004</td>\n",
       "      <td>181.054004</td>\n",
       "      <td>0.019</td>\n",
       "      <td>NaN</td>\n",
       "      <td>3521109.0</td>\n",
       "      <td>5.749</td>\n",
       "      <td>-1</td>\n",
       "      <td>0.000267</td>\n",
       "      <td>...</td>\n",
       "      <td>14.0</td>\n",
       "      <td>4.0</td>\n",
       "      <td>NaN</td>\n",
       "      <td>1.0</td>\n",
       "      <td>NaN</td>\n",
       "      <td>NaN</td>\n",
       "      <td>NaN</td>\n",
       "      <td>NaN</td>\n",
       "      <td>NaN</td>\n",
       "      <td>NaN</td>\n",
       "    </tr>\n",
       "    <tr>\n",
       "      <th>3</th>\n",
       "      <td>645</td>\n",
       "      <td>183.012145</td>\n",
       "      <td>183.012145</td>\n",
       "      <td>183.012139</td>\n",
       "      <td>0.019</td>\n",
       "      <td>NaN</td>\n",
       "      <td>8994992.0</td>\n",
       "      <td>5.684</td>\n",
       "      <td>-1</td>\n",
       "      <td>0.032574</td>\n",
       "      <td>...</td>\n",
       "      <td>8.0</td>\n",
       "      <td>3.0</td>\n",
       "      <td>NaN</td>\n",
       "      <td>1.0</td>\n",
       "      <td>NaN</td>\n",
       "      <td>NaN</td>\n",
       "      <td>NaN</td>\n",
       "      <td>NaN</td>\n",
       "      <td>NaN</td>\n",
       "      <td>NaN</td>\n",
       "    </tr>\n",
       "    <tr>\n",
       "      <th>4</th>\n",
       "      <td>646</td>\n",
       "      <td>183.015943</td>\n",
       "      <td>183.015943</td>\n",
       "      <td>183.015978</td>\n",
       "      <td>0.141</td>\n",
       "      <td>NaN</td>\n",
       "      <td>4433935.0</td>\n",
       "      <td>48.475</td>\n",
       "      <td>-1</td>\n",
       "      <td>-0.192730</td>\n",
       "      <td>...</td>\n",
       "      <td>4.0</td>\n",
       "      <td>4.0</td>\n",
       "      <td>4.0</td>\n",
       "      <td>NaN</td>\n",
       "      <td>NaN</td>\n",
       "      <td>NaN</td>\n",
       "      <td>NaN</td>\n",
       "      <td>NaN</td>\n",
       "      <td>NaN</td>\n",
       "      <td>NaN</td>\n",
       "    </tr>\n",
       "  </tbody>\n",
       "</table>\n",
       "<p>5 rows × 35 columns</p>\n",
       "</div>"
      ],
      "text/plain": [
       "   Index         m/z  Calibrated m/z  Calculated m/z  Peak Height  Peak Area  \\\n",
       "0    300  180.066591      180.066591      180.066617        0.021        NaN   \n",
       "1    311  180.139410      180.139410      180.139388        0.015        NaN   \n",
       "2    424  181.054004      181.054004      181.054004        0.019        NaN   \n",
       "3    645  183.012145      183.012145      183.012139        0.019        NaN   \n",
       "4    646  183.015943      183.015943      183.015978        0.141        NaN   \n",
       "\n",
       "   Resolving Power     S/N  Ion Charge  m/z Error (ppm)  ...     H    O    N  \\\n",
       "0        5207211.0   6.465          -1        -0.144754  ...  11.0  3.0  1.0   \n",
       "1        4706771.0   4.324          -1         0.123882  ...  19.0  1.0  1.0   \n",
       "2        3521109.0   5.749          -1         0.000267  ...  14.0  4.0  NaN   \n",
       "3        8994992.0   5.684          -1         0.032574  ...   8.0  3.0  NaN   \n",
       "4        4433935.0  48.475          -1        -0.192730  ...   4.0  4.0  4.0   \n",
       "\n",
       "     S  13C  15N 17O 18O  33S  34S  \n",
       "0  NaN  NaN  NaN NaN NaN  NaN  NaN  \n",
       "1  NaN  NaN  NaN NaN NaN  NaN  NaN  \n",
       "2  1.0  NaN  NaN NaN NaN  NaN  NaN  \n",
       "3  1.0  NaN  NaN NaN NaN  NaN  NaN  \n",
       "4  NaN  NaN  NaN NaN NaN  NaN  NaN  \n",
       "\n",
       "[5 rows x 35 columns]"
      ]
     },
     "execution_count": 11,
     "metadata": {},
     "output_type": "execute_result"
    }
   ],
   "source": [
    "# exporting data\n",
    "base_dir = Path(\"/home/corems/data\")\n",
    "exports_dir = base_dir / \"exports\"\n",
    "\n",
    "# Create output paths for different formats\n",
    "csv_file = exports_dir / \"Orchidee_Orchidex_CoreMS.csv\"\n",
    "\n",
    "# Save in different formats\n",
    "mass_spectrum.to_csv(str(csv_file))\n",
    "\n",
    "# get pandas Dataframe\n",
    "df = mass_spectrum.to_dataframe()\n",
    "df.head()"
   ]
  },
  {
   "cell_type": "markdown",
   "metadata": {},
   "source": [
    "`mass_spectrum.to_csv` and `mass_spectrum.to_dataframe` produce tables with the following columns."
   ]
  },
  {
   "cell_type": "code",
   "execution_count": 12,
   "metadata": {},
   "outputs": [
    {
     "name": "stdout",
     "output_type": "stream",
     "text": [
      "Index\n",
      "m/z\n",
      "Calibrated m/z\n",
      "Calculated m/z\n",
      "Peak Height\n",
      "Peak Area\n",
      "Resolving Power\n",
      "S/N\n",
      "Ion Charge\n",
      "m/z Error (ppm)\n",
      "m/z Error Score\n",
      "Isotopologue Similarity\n",
      "Confidence Score\n",
      "DBE\n",
      "O/C\n",
      "H/C\n",
      "Heteroatom Class\n",
      "Ion Type\n",
      "Adduct\n",
      "Is Isotopologue\n",
      "Mono Isotopic Index\n",
      "Molecular Formula\n",
      "KMD\n",
      "Formula KMD\n",
      "C\n",
      "H\n",
      "O\n",
      "N\n",
      "S\n",
      "13C\n",
      "15N\n",
      "17O\n",
      "18O\n",
      "33S\n",
      "34S\n"
     ]
    }
   ],
   "source": [
    "for col in df.columns:\n",
    "    print(col)"
   ]
  }
 ],
 "metadata": {
  "kernelspec": {
   "display_name": "Python 3",
   "language": "python",
   "name": "python3"
  },
  "language_info": {
   "codemirror_mode": {
    "name": "ipython",
    "version": 3
   },
   "file_extension": ".py",
   "mimetype": "text/x-python",
   "name": "python",
   "nbconvert_exporter": "python",
   "pygments_lexer": "ipython3",
   "version": "3.10.16"
  }
 },
 "nbformat": 4,
 "nbformat_minor": 4
}
