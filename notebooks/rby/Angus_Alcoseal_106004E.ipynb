{
 "cells": [
  {
   "cell_type": "markdown",
   "metadata": {},
   "source": [
    "# CoreMS Assignments to Angus Alcoseal 106004E\n",
    "\n",
    "`CoreMS` framework for mass spectrum\n"
   ]
  },
  {
   "cell_type": "markdown",
   "metadata": {},
   "source": [
    "### 1. Import Data File\n"
   ]
  },
  {
   "cell_type": "code",
   "execution_count": 1,
   "metadata": {},
   "outputs": [
    {
     "name": "stdout",
     "output_type": "stream",
     "text": [
      "/home/corems/data/user_data\n"
     ]
    }
   ],
   "source": [
    "from pathlib import Path\n",
    "\n",
    "data_dir = Path.cwd() / \"data\" / \"user_data\"\n",
    "print(data_dir)"
   ]
  },
  {
   "cell_type": "code",
   "execution_count": 2,
   "metadata": {},
   "outputs": [
    {
     "name": "stdout",
     "output_type": "stream",
     "text": [
      "0: /home/corems/data/user_data/1p5_NegESI_SRFA_AfterSW28_sum50_ABS_3sigma.pks\n",
      "1: /home/corems/data/user_data/2020September23NegESI_PFAS_AFFF_1_10000_sum250_Rephased.pks\n",
      "2: /home/corems/data/user_data/2020September23PosESI_PFAS_AFFF_1_10000_sum250_Rephased.pks\n",
      "3: /home/corems/data/user_data/2021May20_SRFA_Sum568_6p3s_1E6_3sigma_101221.pks\n",
      "4: /home/corems/data/user_data/2023July28_NegESI_Guardian_AFFFC_wSRFA_4s_3E6_sum150_3sigma.pks\n",
      "5: /home/corems/data/user_data/2023July28_NegESI_Guardian_AFFFC_wSRFA_4s_8E5_sum150_3sigma.pks\n",
      "6: /home/corems/data/user_data/2023July28_NegESI_Jacobs3M_AFFF_wSRFA_4s_8E5_sum100_3sigma.pks\n",
      "7: /home/corems/data/user_data/2023July28_NegESI_PetersonBucket_AFFF_wSRFA_4s_3E6_sum100_3sigma.pks\n",
      "8: /home/corems/data/user_data/2024March21_NegESI_Angus_Alcoseal_106004E_sum250_3sigma.pks\n",
      "9: /home/corems/data/user_data/2024March21_NegESI_Angus_Alcoseal_1060_24_sum250_3sigma.pks\n",
      "10: /home/corems/data/user_data/2024March21_NegESI_Angus_Alcoseal_1061_01_02_sum250_3sigma.pks\n",
      "11: /home/corems/data/user_data/2024March21_NegESI_Ansulite_AC5_sum100_3sigma.pks\n",
      "12: /home/corems/data/user_data/2024March21_NegESI_Ansulite_sum100_3sigma.pks\n",
      "13: /home/corems/data/user_data/2024March21_NegESI_Orchidee_Orchidex_AFFF_sum100_3sigma.pks\n",
      "14: /home/corems/data/user_data/2024March21_NegESI_Tyco_Towalex_sum100_3sigma.pks\n",
      "15: /home/corems/data/user_data/AFFF_PetersonBucket.csv\n"
     ]
    }
   ],
   "source": [
    "filepaths = list(data_dir.iterdir())\n",
    "for idx, filepath in enumerate(filepaths):\n",
    "    print(f\"{idx}: {filepath}\")"
   ]
  },
  {
   "cell_type": "markdown",
   "metadata": {},
   "source": [
    "### 2. Import Centroid Mass List Files\n",
    "\n",
    "See [MS_file_imports.md](/home/corems/docs/user_guide/MS_file_imports.md) for details on the class methods, parameters and settings used for mass list file imports."
   ]
  },
  {
   "cell_type": "markdown",
   "metadata": {},
   "source": [
    "#### .pks Files\n",
    "\n",
    "`.pks` files are .txt files exported from Predator Analysis software in a custom format. When the .pks file extension is detected, this format is used for importing the mass spectral data with user-specified `MassSpectrumSetting`s.\n",
    "\n",
    "In the following example, the noise threshold method is `\"signal_noise\"`, and the minimum is set to `6` (default=6). The m/z range is also set explicitly.\n",
    "\n",
    "Filtering based on noise threshold and mz range occur when `auto_process=True`. Settings are read from a JSON or other file when `loadSettings=True`. Currently, this feature is not fully implemented.\n",
    "\n",
    "The total number of peaks (92,307) is illustrated with `len(mass_spectrum)`."
   ]
  },
  {
   "cell_type": "code",
   "execution_count": 4,
   "metadata": {},
   "outputs": [
    {
     "name": "stdout",
     "output_type": "stream",
     "text": [
      "file locations: /home/corems/data/user_data/2024March21_NegESI_Angus_Alcoseal_106004E_sum250_3sigma.pks\n"
     ]
    }
   ],
   "source": [
    "# Imports\n",
    "from corems.encapsulation.factory.parameters import MSParameters\n",
    "from corems.mass_spectrum.input.massList import ReadMassList\n",
    "\n",
    "# Choose noise threshold method and minimum value\n",
    "MSParameters.mass_spectrum.noise_threshold_method = \"signal_noise\"\n",
    "MSParameters.mass_spectrum.noise_threshold_min_s2n = 4\n",
    "\n",
    "# Set m/z range for peak picking and noise threshold\n",
    "MSParameters.mass_spectrum.noise_min_mz = 50.0\n",
    "MSParameters.mass_spectrum.noise_max_mz = 1500.0\n",
    "MSParameters.mass_spectrum.min_picking_mz = 50.0\n",
    "MSParameters.mass_spectrum.max_picking_mz = 1500.0\n",
    "\n",
    "# Set Kendrick base\n",
    "kb = {\"C\": 2, \"H\": 4, \"O\": 1}\n",
    "MSParameters.ms_peak.kendrick_base = kb\n",
    "\n",
    "# Specify file path\n",
    "file_location = filepaths[8]\n",
    "print(f\"file locations: {file_location}\")"
   ]
  },
  {
   "cell_type": "code",
   "execution_count": 5,
   "metadata": {},
   "outputs": [
    {
     "name": "stdout",
     "output_type": "stream",
     "text": [
      "42089\n",
      "Mass spectrum label: CoreMS_Centroid\n",
      "Baseline noise: 0.0010011876484560575\n",
      "Baseline noise std: 3.444180522565318e-05\n",
      "Is centroid: True\n"
     ]
    },
    {
     "data": {
      "image/png": "[encoded data removed]",
      "text/plain": [
       "<Figure size 640x480 with 1 Axes>"
      ]
     },
     "metadata": {},
     "output_type": "display_data"
    }
   ],
   "source": [
    "mass_list_reader = ReadMassList(file_location)\n",
    "\n",
    "# Import centroided spectrum\n",
    "mass_spectrum = mass_list_reader.get_mass_spectrum(\n",
    "    polarity=-1, auto_process=True, loadSettings=False\n",
    ")\n",
    "print(len(mass_spectrum))\n",
    "\n",
    "# Debug information to understand the issue\n",
    "print(f\"Mass spectrum label: {mass_spectrum.label}\")\n",
    "print(f\"Baseline noise: {mass_spectrum.baseline_noise}\")\n",
    "print(f\"Baseline noise std: {mass_spectrum.baseline_noise_std}\")\n",
    "print(f\"Is centroid: {mass_spectrum.is_centroid}\")\n",
    "\n",
    "# Check if noise threshold values exist before plotting\n",
    "if mass_spectrum.baseline_noise is not None and mass_spectrum.baseline_noise_std is not None:\n",
    "    # Plot the mass spectrum\n",
    "    mass_spectrum.plot_profile_and_noise_threshold()\n",
    "else:\n",
    "    print(\"Noise threshold not calculated. Calculating manually...\")\n",
    "    mass_spectrum.cal_noise_threshold()\n",
    "    print(f\"After manual calculation - Baseline noise: {mass_spectrum.baseline_noise}\")\n",
    "    print(f\"After manual calculation - Baseline noise std: {mass_spectrum.baseline_noise_std}\")\n",
    "    # Now try plotting\n",
    "    mass_spectrum.plot_profile_and_noise_threshold()"
   ]
  },
  {
   "cell_type": "markdown",
   "metadata": {},
   "source": [
    "### 3. Access mass spectrum peak objects\n"
   ]
  },
  {
   "cell_type": "code",
   "execution_count": 6,
   "metadata": {},
   "outputs": [
    {
     "name": "stdout",
     "output_type": "stream",
     "text": [
      "Most abundant peaks (top 20):\n",
      "1: 586.039874 m/z | 100.0000 abundance | 1572095.0 resolving power | 423724.2 S/N | -0.6909 KMD\n",
      "2: 587.043248 m/z | 14.9640 abundance | 1453904.0 resolving power | 63405.4 S/N | -0.6937 KMD\n",
      "3: 569.078744 m/z | 8.8490 abundance | 1587934.0 resolving power | 37494.0 S/N | -0.7399 KMD\n",
      "4: 588.035709 m/z | 8.7130 abundance | 1578427.0 resolving power | 36918.5 S/N | -0.6856 KMD\n",
      "5: 283.264254 m/z | 5.0150 abundance | 3005431.0 resolving power | 21247.6 S/N | -0.0956 KMD\n",
      "6: 586.024439 m/z | 4.9020 abundance | 109919.0 resolving power | 20770.9 S/N | -0.6755 KMD\n",
      "7: 586.034054 m/z | 4.0640 abundance | 129567.0 resolving power | 17217.6 S/N | -0.6851 KMD\n",
      "8: 586.044572 m/z | 3.9150 abundance | 119843.0 resolving power | 16588.1 S/N | -0.6956 KMD\n",
      "9: 255.232841 m/z | 3.6210 abundance | 3490357.0 resolving power | 15343.4 S/N | -0.0809 KMD\n",
      "10: 586.053633 m/z | 3.4340 abundance | 116299.0 resolving power | 14551.7 S/N | -0.7047 KMD\n",
      "11: 586.014517 m/z | 2.1760 abundance | 127199.0 resolving power | 9220.4 S/N | -0.6656 KMD\n",
      "12: 605.055488 m/z | 2.0810 abundance | 1477317.0 resolving power | 8818.4 S/N | -0.6952 KMD\n",
      "13: 426.967910 m/z | 1.9610 abundance | 2213420.0 resolving power | 8307.8 S/N | -0.7137 KMD\n",
      "14: 586.065096 m/z | 1.8660 abundance | 111507.0 resolving power | 7904.0 S/N | -0.7161 KMD\n",
      "15: 586.005400 m/z | 1.6970 abundance | 120076.0 resolving power | 7190.5 S/N | -0.6565 KMD\n",
      "16: 449.173657 m/z | 1.4660 abundance | 1891715.0 resolving power | 6210.2 S/N | -0.9062 KMD\n",
      "17: 570.082099 m/z | 1.4320 abundance | 1596356.0 resolving power | 6066.8 S/N | -0.7427 KMD\n",
      "18: 589.039059 m/z | 1.4240 abundance | 1579303.0 resolving power | 6033.4 S/N | -0.6883 KMD\n",
      "19: 587.039343 m/z | 1.3960 abundance | 1497280.0 resolving power | 5912.5 S/N | -0.6898 KMD\n",
      "20: 586.075922 m/z | 1.2700 abundance | 103529.0 resolving power | 5379.7 S/N | -0.7270 KMD\n"
     ]
    }
   ],
   "source": [
    "n = 20\n",
    "most_abundant_peaks = mass_spectrum.sort_by_abundance(reverse=True)[:n]\n",
    "\n",
    "print(f\"Most abundant peaks (top {n}):\")\n",
    "for i, mspeak in enumerate(most_abundant_peaks):\n",
    "    print(\n",
    "        f\"{i+1}: {mspeak.mz_exp:.6f} m/z | \"\n",
    "        f\"{mspeak.abundance:.4f} abundance | \" \n",
    "        f\"{mspeak.resolving_power:.1f} resolving power | \" \n",
    "        f\"{mspeak.signal_to_noise:.1f} S/N | \"\n",
    "        f\"{mspeak.kmd:.4f} KMD\" \n",
    "    )"
   ]
  },
  {
   "cell_type": "code",
   "execution_count": 7,
   "metadata": {},
   "outputs": [
    {
     "name": "stdout",
     "output_type": "stream",
     "text": [
      "Kendrick base: {'C': 2, 'H': 4, 'O': 1}\n"
     ]
    }
   ],
   "source": [
    "print(f\"Kendrick base: {mass_spectrum.mspeaks_settings.kendrick_base}\")\n"
   ]
  },
  {
   "cell_type": "markdown",
   "metadata": {},
   "source": [
    "### 4. Molecular formula search\n",
    "The formula database isn't built until the `SearchMolecularFormulas` method is run.\n",
    "\n",
    "See [database_initialization.md](/home/corems/docs/user_guide/database_initialization.md) and [molecular_formula_search.md](/home/corems/docs/user_guide/molecular_formula_search.md) for details about the molecular formula database and search process. Both database initialization and molecular formula searching rely establishing the relevant heteroatom space.\n",
    "\n",
    "Numerous parameters can be set to facilitate the molecular search process, including element number and element ratio constraints, and ppm and isotope abundance error constraints. Many of these constraints are illustrated below. In the following example, `first_hit = False`, meaning that peaks aren't skipped when a molecular formula has already been assigned."
   ]
  },
  {
   "cell_type": "code",
   "execution_count": 8,
   "metadata": {},
   "outputs": [
    {
     "name": "stdout",
     "output_type": "stream",
     "text": [
      "'runworker'  564.06 ms\n"
     ]
    },
    {
     "name": "stderr",
     "output_type": "stream",
     "text": [
      "Loading molecular formula database: 845742it [01:09, 12138.64it/s]\n",
      "Started molecular formula search for class {\"N\": 3, \"S\": 2, \"O\": 10}, (de)protonated : 100%|██████████| 300/300 [01:20<00:00,  3.73it/s]\n",
      "Loading molecular formula database: 389146it [00:32, 12030.70it/s]\n",
      "Started molecular formula search for class {\"N\": 4, \"S\": 2, \"O\": 30}, (de)protonated : 100%|██████████| 150/150 [00:29<00:00,  5.01it/s]\n"
     ]
    },
    {
     "name": "stdout",
     "output_type": "stream",
     "text": [
      "'run_molecular_formula'  214814.44 ms\n",
      "11347 assigned peaks and 30742 unassigned peaks, total  = 26.96 %, relative abundance = 25.73 %, RMS error (best candidate) (ppm) = 0.097\n"
     ]
    },
    {
     "data": {
      "text/plain": [
       "(11347, 30742, 26.95953812159947, 25.729966261350732, 0.09748068894905629)"
      ]
     },
     "execution_count": 8,
     "metadata": {},
     "output_type": "execute_result"
    }
   ],
   "source": [
    "from corems.molecular_id.search.molecularFormulaSearch import SearchMolecularFormulas\n",
    "\n",
    "# Ion Types\n",
    "mass_spectrum.molecular_search_settings.isProtonated = True\n",
    "mass_spectrum.molecular_search_settings.isRadical = False\n",
    "mass_spectrum.molecular_search_settings.isAdduct = False\n",
    "\n",
    "# Atom constraints\n",
    "mass_spectrum.molecular_search_settings.usedAtoms[\"C\"] = (1, 100)\n",
    "mass_spectrum.molecular_search_settings.usedAtoms[\"H\"] = (4, 200)   # Max H for C100 is 202\n",
    "mass_spectrum.molecular_search_settings.usedAtoms[\"N\"] = (0, 4)\n",
    "mass_spectrum.molecular_search_settings.usedAtoms[\"O\"] = (1, 30)\n",
    "# mass_spectrum.molecular_search_settings.usedAtoms[\"P\"] = (0, 1)\n",
    "mass_spectrum.molecular_search_settings.usedAtoms[\"S\"] = (0, 2)\n",
    "\n",
    "# Mass error constraints\n",
    "mass_spectrum.molecular_search_settings.error_method = \"None\"\n",
    "mass_spectrum.molecular_search_settings.min_ppm_error = -0.2   # Bahureksa paper 0.4\n",
    "mass_spectrum.molecular_search_settings.max_ppm_error = 0.2\n",
    "\n",
    "# DBE constraints - Can always throw out high Mod AI (> 0.5 = aromatic and > 0.67 = condensed aromatic)\n",
    "mass_spectrum.molecular_search_settings.min_dbe = 0\n",
    "mass_spectrum.molecular_search_settings.max_dbe = 66   # Max DBE 66 for C100 (empirical Max DBE = 2C/3)\n",
    "\n",
    "# H/C ratio constraints (Kind & Fiehn)\n",
    "mass_spectrum.molecular_search_settings.min_hc_filter = 0.2\n",
    "mass_spectrum.molecular_search_settings.max_hc_filter = 3.1\n",
    "\n",
    "# O/C ratio constraints (Kind & Fiehn)\n",
    "mass_spectrum.molecular_search_settings.min_oc_filter = 0\n",
    "mass_spectrum.molecular_search_settings.max_oc_filter = 1.2\n",
    "\n",
    "# O/P ratio constraints\n",
    "# mass_spectrum.molecular_search_settings.min_op_filter = 2\n",
    "\n",
    "# Isotope abundance constraints\n",
    "mass_spectrum.molecular_search_settings.min_abun_error = -15\n",
    "mass_spectrum.molecular_search_settings.max_abun_error = 15\n",
    "\n",
    "\n",
    "SearchMolecularFormulas(mass_spectrum, first_hit=True).run_worker_mass_spectrum()\n",
    "mass_spectrum.percentile_assigned(report_error=True)\n"
   ]
  },
  {
   "cell_type": "markdown",
   "metadata": {},
   "source": [
    "### 5. Visualizing Results\n",
    "\n",
    "The tools for exploring and visualizing molecular formula assignment results are primarily contained in `HeteroatomsClassification`, consistent with the use of heteroatom space to define search space."
   ]
  },
  {
   "cell_type": "code",
   "execution_count": 9,
   "metadata": {},
   "outputs": [
    {
     "data": {
      "text/plain": [
       "<Axes: xlabel='$\\t{m/z}$', ylabel='Abundance'>"
      ]
     },
     "execution_count": 9,
     "metadata": {},
     "output_type": "execute_result"
    },
    {
     "data": {
      "image/png": "[encoded data removed]",
      "text/plain": [
       "<Figure size 640x480 with 1 Axes>"
      ]
     },
     "metadata": {},
     "output_type": "display_data"
    }
   ],
   "source": [
    "from corems.molecular_id.factory.classification import HeteroatomsClassification\n",
    "\n",
    "mass_spectrum_by_classes = HeteroatomsClassification(\n",
    "    mass_spectrum, choose_molecular_formula=True\n",
    ")\n",
    "mass_spectrum_by_classes.plot_ms_assigned_unassigned()"
   ]
  },
  {
   "cell_type": "markdown",
   "metadata": {},
   "source": [
    "### 6. Exploring Mass Spectrum"
   ]
  },
  {
   "cell_type": "code",
   "execution_count": 10,
   "metadata": {},
   "outputs": [
    {
     "name": "stdout",
     "output_type": "stream",
     "text": [
      "Abundance: 1.47 | m/z: 449.173661 | Error: -0.008430 | DBE: 1.0 | H/C: 2.307692 | O/C: 1.000000 | AI mod: 0.000000 | KMD: -0.9062 | Class: N4 O13 | Formula: C₁₃H₃₀O₁₃N₄\n",
      "Abundance: 2.18 | m/z: 586.014443 | Error: 0.127118 | DBE: 14.0 | H/C: 0.809524 | O/C: 0.809524 | AI mod: 0.333333 | KMD: -0.6655 | Class: N1 S1 O17 | Formula: C₂₁H₁₇O₁₇N₁S₁\n",
      "Abundance: 3.43 | m/z: 586.053687 | Error: -0.091725 | DBE: 26.0 | H/C: 0.531250 | O/C: 0.156250 | AI mod: 0.755102 | KMD: -0.7047 | Class: N3 S2 O5 | Formula: C₃₂H₁₇O₅N₃S₂\n",
      "Abundance: 5.01 | m/z: 283.264254 | Error: -0.000166 | DBE: 1.0 | H/C: 2.000000 | O/C: 0.111111 | AI mod: 0.000000 | KMD: -0.0956 | Class: O2 | Formula: C₁₈H₃₆O₂\n",
      "Abundance: 8.85 | m/z: 569.078779 | Error: -0.060985 | DBE: 30.0 | H/C: 0.486486 | O/C: 0.027027 | AI mod: 0.784615 | KMD: -0.7399 | Class: N2 S2 O1 | Formula: C₃₇H₁₈O₁N₂S₂\n"
     ]
    }
   ],
   "source": [
    "for mspeaks in mass_spectrum.sort_by_abundance()[-20:]:\n",
    "    for mf in mspeaks:\n",
    "        print(f\"Abundance: {mspeaks.abundance:.2f} | \"\n",
    "              f\"m/z: {mf.mz_calc:.6f} | \"\n",
    "              f\"Error: {mf.mz_error:.6f} | \"\n",
    "              f\"DBE: {mf.dbe} | \"\n",
    "              f\"H/C: {mf.H_C:.6f} | \"\n",
    "              f\"O/C: {mf.O_C:.6f} | \"\n",
    "              f\"AI mod: {mf.A_I_mod:.6f} | \"\n",
    "              f\"KMD: {mf.kmd:.4f} | \"\n",
    "              f\"Class: {mf.class_label} | \"\n",
    "              f\"Formula: {mf.string_formated}\")"
   ]
  },
  {
   "cell_type": "markdown",
   "metadata": {},
   "source": [
    "### 7. Exporting Molecular Formula Results"
   ]
  },
  {
   "cell_type": "code",
   "execution_count": 11,
   "metadata": {},
   "outputs": [
    {
     "data": {
      "text/html": [
       "<div>\n",
       "<style scoped>\n",
       "    .dataframe tbody tr th:only-of-type {\n",
       "        vertical-align: middle;\n",
       "    }\n",
       "\n",
       "    .dataframe tbody tr th {\n",
       "        vertical-align: top;\n",
       "    }\n",
       "\n",
       "    .dataframe thead th {\n",
       "        text-align: right;\n",
       "    }\n",
       "</style>\n",
       "<table border=\"1\" class=\"dataframe\">\n",
       "  <thead>\n",
       "    <tr style=\"text-align: right;\">\n",
       "      <th></th>\n",
       "      <th>Index</th>\n",
       "      <th>m/z</th>\n",
       "      <th>Calibrated m/z</th>\n",
       "      <th>Calculated m/z</th>\n",
       "      <th>Peak Height</th>\n",
       "      <th>Peak Area</th>\n",
       "      <th>Resolving Power</th>\n",
       "      <th>S/N</th>\n",
       "      <th>Ion Charge</th>\n",
       "      <th>m/z Error (ppm)</th>\n",
       "      <th>...</th>\n",
       "      <th>H</th>\n",
       "      <th>O</th>\n",
       "      <th>N</th>\n",
       "      <th>S</th>\n",
       "      <th>13C</th>\n",
       "      <th>15N</th>\n",
       "      <th>17O</th>\n",
       "      <th>18O</th>\n",
       "      <th>33S</th>\n",
       "      <th>34S</th>\n",
       "    </tr>\n",
       "  </thead>\n",
       "  <tbody>\n",
       "    <tr>\n",
       "      <th>0</th>\n",
       "      <td>202</td>\n",
       "      <td>176.071733</td>\n",
       "      <td>176.071733</td>\n",
       "      <td>176.071702</td>\n",
       "      <td>0.001</td>\n",
       "      <td>NaN</td>\n",
       "      <td>3663517.0</td>\n",
       "      <td>4.588</td>\n",
       "      <td>-1</td>\n",
       "      <td>0.174669</td>\n",
       "      <td>...</td>\n",
       "      <td>11.0</td>\n",
       "      <td>2.0</td>\n",
       "      <td>1.0</td>\n",
       "      <td>NaN</td>\n",
       "      <td>NaN</td>\n",
       "      <td>NaN</td>\n",
       "      <td>NaN</td>\n",
       "      <td>NaN</td>\n",
       "      <td>NaN</td>\n",
       "      <td>NaN</td>\n",
       "    </tr>\n",
       "    <tr>\n",
       "      <th>1</th>\n",
       "      <td>204</td>\n",
       "      <td>176.092864</td>\n",
       "      <td>176.092864</td>\n",
       "      <td>176.092832</td>\n",
       "      <td>0.016</td>\n",
       "      <td>NaN</td>\n",
       "      <td>5359051.0</td>\n",
       "      <td>66.391</td>\n",
       "      <td>-1</td>\n",
       "      <td>0.185051</td>\n",
       "      <td>...</td>\n",
       "      <td>15.0</td>\n",
       "      <td>4.0</td>\n",
       "      <td>1.0</td>\n",
       "      <td>NaN</td>\n",
       "      <td>NaN</td>\n",
       "      <td>NaN</td>\n",
       "      <td>NaN</td>\n",
       "      <td>NaN</td>\n",
       "      <td>NaN</td>\n",
       "      <td>NaN</td>\n",
       "    </tr>\n",
       "    <tr>\n",
       "      <th>2</th>\n",
       "      <td>306</td>\n",
       "      <td>177.022733</td>\n",
       "      <td>177.022733</td>\n",
       "      <td>177.022704</td>\n",
       "      <td>0.002</td>\n",
       "      <td>NaN</td>\n",
       "      <td>4516973.0</td>\n",
       "      <td>6.951</td>\n",
       "      <td>-1</td>\n",
       "      <td>0.169342</td>\n",
       "      <td>...</td>\n",
       "      <td>10.0</td>\n",
       "      <td>4.0</td>\n",
       "      <td>NaN</td>\n",
       "      <td>1.0</td>\n",
       "      <td>NaN</td>\n",
       "      <td>NaN</td>\n",
       "      <td>NaN</td>\n",
       "      <td>NaN</td>\n",
       "      <td>NaN</td>\n",
       "      <td>NaN</td>\n",
       "    </tr>\n",
       "    <tr>\n",
       "      <th>3</th>\n",
       "      <td>566</td>\n",
       "      <td>179.046240</td>\n",
       "      <td>179.046240</td>\n",
       "      <td>179.046216</td>\n",
       "      <td>0.001</td>\n",
       "      <td>NaN</td>\n",
       "      <td>4125291.0</td>\n",
       "      <td>5.089</td>\n",
       "      <td>-1</td>\n",
       "      <td>0.134752</td>\n",
       "      <td>...</td>\n",
       "      <td>8.0</td>\n",
       "      <td>3.0</td>\n",
       "      <td>2.0</td>\n",
       "      <td>NaN</td>\n",
       "      <td>NaN</td>\n",
       "      <td>NaN</td>\n",
       "      <td>NaN</td>\n",
       "      <td>NaN</td>\n",
       "      <td>NaN</td>\n",
       "      <td>NaN</td>\n",
       "    </tr>\n",
       "    <tr>\n",
       "      <th>4</th>\n",
       "      <td>567</td>\n",
       "      <td>179.056135</td>\n",
       "      <td>179.056135</td>\n",
       "      <td>179.056112</td>\n",
       "      <td>0.002</td>\n",
       "      <td>NaN</td>\n",
       "      <td>5057056.0</td>\n",
       "      <td>9.403</td>\n",
       "      <td>-1</td>\n",
       "      <td>0.130396</td>\n",
       "      <td>...</td>\n",
       "      <td>12.0</td>\n",
       "      <td>6.0</td>\n",
       "      <td>NaN</td>\n",
       "      <td>NaN</td>\n",
       "      <td>NaN</td>\n",
       "      <td>NaN</td>\n",
       "      <td>NaN</td>\n",
       "      <td>NaN</td>\n",
       "      <td>NaN</td>\n",
       "      <td>NaN</td>\n",
       "    </tr>\n",
       "  </tbody>\n",
       "</table>\n",
       "<p>5 rows × 35 columns</p>\n",
       "</div>"
      ],
      "text/plain": [
       "   Index         m/z  Calibrated m/z  Calculated m/z  Peak Height  Peak Area  \\\n",
       "0    202  176.071733      176.071733      176.071702        0.001        NaN   \n",
       "1    204  176.092864      176.092864      176.092832        0.016        NaN   \n",
       "2    306  177.022733      177.022733      177.022704        0.002        NaN   \n",
       "3    566  179.046240      179.046240      179.046216        0.001        NaN   \n",
       "4    567  179.056135      179.056135      179.056112        0.002        NaN   \n",
       "\n",
       "   Resolving Power     S/N  Ion Charge  m/z Error (ppm)  ...     H    O    N  \\\n",
       "0        3663517.0   4.588          -1         0.174669  ...  11.0  2.0  1.0   \n",
       "1        5359051.0  66.391          -1         0.185051  ...  15.0  4.0  1.0   \n",
       "2        4516973.0   6.951          -1         0.169342  ...  10.0  4.0  NaN   \n",
       "3        4125291.0   5.089          -1         0.134752  ...   8.0  3.0  2.0   \n",
       "4        5057056.0   9.403          -1         0.130396  ...  12.0  6.0  NaN   \n",
       "\n",
       "     S  13C  15N 17O 18O  33S  34S  \n",
       "0  NaN  NaN  NaN NaN NaN  NaN  NaN  \n",
       "1  NaN  NaN  NaN NaN NaN  NaN  NaN  \n",
       "2  1.0  NaN  NaN NaN NaN  NaN  NaN  \n",
       "3  NaN  NaN  NaN NaN NaN  NaN  NaN  \n",
       "4  NaN  NaN  NaN NaN NaN  NaN  NaN  \n",
       "\n",
       "[5 rows x 35 columns]"
      ]
     },
     "execution_count": 11,
     "metadata": {},
     "output_type": "execute_result"
    }
   ],
   "source": [
    "# exporting data\n",
    "base_dir = Path(\"/home/corems/data\")\n",
    "exports_dir = base_dir / \"exports\"\n",
    "\n",
    "# Create output paths for different formats\n",
    "csv_file = exports_dir / \"Angus_Alcoseal_106004E_CoreMS.csv\"\n",
    "\n",
    "# Save in different formats\n",
    "mass_spectrum.to_csv(str(csv_file))\n",
    "\n",
    "# get pandas Dataframe\n",
    "df = mass_spectrum.to_dataframe()\n",
    "df.head()"
   ]
  },
  {
   "cell_type": "markdown",
   "metadata": {},
   "source": [
    "`mass_spectrum.to_csv` and `mass_spectrum.to_dataframe` produce tables with the following columns."
   ]
  },
  {
   "cell_type": "code",
   "execution_count": 12,
   "metadata": {},
   "outputs": [
    {
     "name": "stdout",
     "output_type": "stream",
     "text": [
      "Index\n",
      "m/z\n",
      "Calibrated m/z\n",
      "Calculated m/z\n",
      "Peak Height\n",
      "Peak Area\n",
      "Resolving Power\n",
      "S/N\n",
      "Ion Charge\n",
      "m/z Error (ppm)\n",
      "m/z Error Score\n",
      "Isotopologue Similarity\n",
      "Confidence Score\n",
      "DBE\n",
      "O/C\n",
      "H/C\n",
      "Heteroatom Class\n",
      "Ion Type\n",
      "Adduct\n",
      "Is Isotopologue\n",
      "Mono Isotopic Index\n",
      "Molecular Formula\n",
      "KMD\n",
      "Formula KMD\n",
      "C\n",
      "H\n",
      "O\n",
      "N\n",
      "S\n",
      "13C\n",
      "15N\n",
      "17O\n",
      "18O\n",
      "33S\n",
      "34S\n"
     ]
    }
   ],
   "source": [
    "for col in df.columns:\n",
    "    print(col)"
   ]
  }
 ],
 "metadata": {
  "kernelspec": {
   "display_name": "Python 3",
   "language": "python",
   "name": "python3"
  },
  "language_info": {
   "codemirror_mode": {
    "name": "ipython",
    "version": 3
   },
   "file_extension": ".py",
   "mimetype": "text/x-python",
   "name": "python",
   "nbconvert_exporter": "python",
   "pygments_lexer": "ipython3",
   "version": "3.10.16"
  }
 },
 "nbformat": 4,
 "nbformat_minor": 4
}
