{
 "cells": [
  {
   "cell_type": "markdown",
   "metadata": {},
   "source": [
    "# CoreMS Assignments to Ansulite (not AC5)\n",
    "\n",
    "`CoreMS` framework for mass spectrum\n"
   ]
  },
  {
   "cell_type": "markdown",
   "metadata": {},
   "source": [
    "### 1. Import Data File\n"
   ]
  },
  {
   "cell_type": "code",
   "execution_count": 1,
   "metadata": {},
   "outputs": [
    {
     "name": "stdout",
     "output_type": "stream",
     "text": [
      "/home/corems/data/user_data\n"
     ]
    }
   ],
   "source": [
    "from pathlib import Path\n",
    "\n",
    "data_dir = Path.cwd() / \"data\" / \"user_data\"\n",
    "print(data_dir)"
   ]
  },
  {
   "cell_type": "code",
   "execution_count": 3,
   "metadata": {},
   "outputs": [
    {
     "name": "stdout",
     "output_type": "stream",
     "text": [
      "0: /home/corems/data/user_data/1p5_NegESI_SRFA_AfterSW28_sum50_ABS_3sigma.pks\n",
      "1: /home/corems/data/user_data/2020September23NegESI_PFAS_AFFF_1_10000_sum250_Rephased.pks\n",
      "2: /home/corems/data/user_data/2020September23PosESI_PFAS_AFFF_1_10000_sum250_Rephased.pks\n",
      "3: /home/corems/data/user_data/2021May20_SRFA_Sum568_6p3s_1E6_3sigma_101221.pks\n",
      "4: /home/corems/data/user_data/2023July28_NegESI_Guardian_AFFFC_wSRFA_4s_3E6_sum150_3sigma.pks\n",
      "5: /home/corems/data/user_data/2023July28_NegESI_Guardian_AFFFC_wSRFA_4s_8E5_sum150_3sigma.pks\n",
      "6: /home/corems/data/user_data/2023July28_NegESI_Jacobs3M_AFFF_wSRFA_4s_8E5_sum100_3sigma.pks\n",
      "7: /home/corems/data/user_data/2023July28_NegESI_PetersonBucket_AFFF_wSRFA_4s_3E6_sum100_3sigma.pks\n",
      "8: /home/corems/data/user_data/2024March21_NegESI_Angus_Alcoseal_106004E_sum250_3sigma.pks\n",
      "9: /home/corems/data/user_data/2024March21_NegESI_Angus_Alcoseal_1060_24_sum250_3sigma.pks\n",
      "10: /home/corems/data/user_data/2024March21_NegESI_Angus_Alcoseal_1061_01_02_sum250_3sigma.pks\n",
      "11: /home/corems/data/user_data/2024March21_NegESI_Ansulite_AC5_sum100_3sigma.pks\n",
      "12: /home/corems/data/user_data/2024March21_NegESI_Ansulite_sum100_3sigma.pks\n",
      "13: /home/corems/data/user_data/2024March21_NegESI_Orchidee_Orchidex_AFFF_sum100_3sigma.pks\n",
      "14: /home/corems/data/user_data/2024March21_NegESI_Tyco_Towalex_sum100_3sigma.pks\n",
      "15: /home/corems/data/user_data/AFFF_PetersonBucket.csv\n"
     ]
    }
   ],
   "source": [
    "filepaths = list(data_dir.iterdir())\n",
    "for idx, filepath in enumerate(filepaths):\n",
    "    print(f\"{idx}: {filepath}\")"
   ]
  },
  {
   "cell_type": "markdown",
   "metadata": {},
   "source": [
    "### 2. Import Centroid Mass List Files\n",
    "\n",
    "See [MS_file_imports.md](/home/corems/docs/user_guide/MS_file_imports.md) for details on the class methods, parameters and settings used for mass list file imports."
   ]
  },
  {
   "cell_type": "markdown",
   "metadata": {},
   "source": [
    "#### .pks Files\n",
    "\n",
    "`.pks` files are .txt files exported from Predator Analysis software in a custom format. When the .pks file extension is detected, this format is used for importing the mass spectral data with user-specified `MassSpectrumSetting`s.\n",
    "\n",
    "In the following example, the noise threshold method is `\"signal_noise\"`, and the minimum is set to `6` (default=6). The m/z range is also set explicitly.\n",
    "\n",
    "Filtering based on noise threshold and mz range occur when `auto_process=True`. Settings are read from a JSON or other file when `loadSettings=True`. Currently, this feature is not fully implemented.\n",
    "\n",
    "The total number of peaks (92,307) is illustrated with `len(mass_spectrum)`."
   ]
  },
  {
   "cell_type": "code",
   "execution_count": 5,
   "metadata": {},
   "outputs": [
    {
     "name": "stdout",
     "output_type": "stream",
     "text": [
      "file locations: /home/corems/data/user_data/2024March21_NegESI_Ansulite_sum100_3sigma.pks\n"
     ]
    }
   ],
   "source": [
    "# Imports\n",
    "from corems.encapsulation.factory.parameters import MSParameters\n",
    "from corems.mass_spectrum.input.massList import ReadMassList\n",
    "\n",
    "# Choose noise threshold method and minimum value\n",
    "MSParameters.mass_spectrum.noise_threshold_method = \"signal_noise\"\n",
    "MSParameters.mass_spectrum.noise_threshold_min_s2n = 4\n",
    "\n",
    "# Set m/z range for peak picking and noise threshold\n",
    "MSParameters.mass_spectrum.noise_min_mz = 50.0\n",
    "MSParameters.mass_spectrum.noise_max_mz = 1500.0\n",
    "MSParameters.mass_spectrum.min_picking_mz = 50.0\n",
    "MSParameters.mass_spectrum.max_picking_mz = 1500.0\n",
    "\n",
    "# Set Kendrick base\n",
    "kb = {\"C\": 2, \"H\": 4, \"O\": 1}\n",
    "MSParameters.ms_peak.kendrick_base = kb\n",
    "\n",
    "# Specify file path\n",
    "file_location = filepaths[12]\n",
    "print(f\"file locations: {file_location}\")"
   ]
  },
  {
   "cell_type": "code",
   "execution_count": 6,
   "metadata": {},
   "outputs": [
    {
     "name": "stdout",
     "output_type": "stream",
     "text": [
      "24322\n",
      "Mass spectrum label: CoreMS_Centroid\n",
      "Baseline noise: 0.0010308008213552365\n",
      "Baseline noise std: 0.00017277769172864587\n",
      "Is centroid: True\n"
     ]
    },
    {
     "data": {
      "image/png": "[encoded data removed]",
      "text/plain": [
       "<Figure size 640x480 with 1 Axes>"
      ]
     },
     "metadata": {},
     "output_type": "display_data"
    }
   ],
   "source": [
    "mass_list_reader = ReadMassList(file_location)\n",
    "\n",
    "# Import centroided spectrum\n",
    "mass_spectrum = mass_list_reader.get_mass_spectrum(\n",
    "    polarity=-1, auto_process=True, loadSettings=False\n",
    ")\n",
    "print(len(mass_spectrum))\n",
    "\n",
    "# Debug information to understand the issue\n",
    "print(f\"Mass spectrum label: {mass_spectrum.label}\")\n",
    "print(f\"Baseline noise: {mass_spectrum.baseline_noise}\")\n",
    "print(f\"Baseline noise std: {mass_spectrum.baseline_noise_std}\")\n",
    "print(f\"Is centroid: {mass_spectrum.is_centroid}\")\n",
    "\n",
    "# Check if noise threshold values exist before plotting\n",
    "if mass_spectrum.baseline_noise is not None and mass_spectrum.baseline_noise_std is not None:\n",
    "    # Plot the mass spectrum\n",
    "    mass_spectrum.plot_profile_and_noise_threshold()\n",
    "else:\n",
    "    print(\"Noise threshold not calculated. Calculating manually...\")\n",
    "    mass_spectrum.cal_noise_threshold()\n",
    "    print(f\"After manual calculation - Baseline noise: {mass_spectrum.baseline_noise}\")\n",
    "    print(f\"After manual calculation - Baseline noise std: {mass_spectrum.baseline_noise_std}\")\n",
    "    # Now try plotting\n",
    "    mass_spectrum.plot_profile_and_noise_threshold()"
   ]
  },
  {
   "cell_type": "markdown",
   "metadata": {},
   "source": [
    "### 3. Access mass spectrum peak objects\n"
   ]
  },
  {
   "cell_type": "code",
   "execution_count": 7,
   "metadata": {},
   "outputs": [
    {
     "name": "stdout",
     "output_type": "stream",
     "text": [
      "Most abundant peaks (top 20):\n",
      "1: 586.039673 m/z | 100.0000 abundance | 1772928.0 resolving power | 337733.7 S/N | -0.6907 KMD\n",
      "2: 686.033858 m/z | 63.3240 abundance | 1268378.0 resolving power | 213867.5 S/N | -0.6254 KMD\n",
      "3: 602.034646 m/z | 23.5370 abundance | 1622947.0 resolving power | 79490.8 S/N | -0.6762 KMD\n",
      "4: 702.028750 m/z | 15.6390 abundance | 1116838.0 resolving power | 52818.1 S/N | -0.6107 KMD\n",
      "5: 587.043091 m/z | 14.2190 abundance | 1472760.0 resolving power | 48020.3 S/N | -0.6935 KMD\n",
      "6: 687.037141 m/z | 12.0640 abundance | 1367174.0 resolving power | 40743.4 S/N | -0.6281 KMD\n",
      "7: 588.035520 m/z | 8.6070 abundance | 1649957.0 resolving power | 29069.6 S/N | -0.6854 KMD\n",
      "8: 686.035380 m/z | 5.8600 abundance | 1096327.0 resolving power | 19790.2 S/N | -0.6269 KMD\n",
      "9: 688.029615 m/z | 5.7310 abundance | 1344016.0 resolving power | 19356.1 S/N | -0.6199 KMD\n",
      "10: 328.249332 m/z | 5.4170 abundance | 2649371.0 resolving power | 18295.2 S/N | -0.0539 KMD\n",
      "11: 586.024166 m/z | 4.8620 abundance | 109992.0 resolving power | 16420.5 S/N | -0.6752 KMD\n",
      "12: 586.044232 m/z | 4.1970 abundance | 116833.0 resolving power | 14173.0 S/N | -0.6953 KMD\n",
      "13: 586.040381 m/z | 4.0500 abundance | 2295027.0 resolving power | 13675.9 S/N | -0.6914 KMD\n",
      "14: 586.033764 m/z | 3.9150 abundance | 130173.0 resolving power | 13220.3 S/N | -0.6848 KMD\n",
      "15: 603.038021 m/z | 3.8160 abundance | 1702515.0 resolving power | 12885.7 S/N | -0.6790 KMD\n",
      "16: 686.012194 m/z | 3.4710 abundance | 92130.0 resolving power | 11723.2 S/N | -0.6037 KMD\n",
      "17: 586.053358 m/z | 3.3950 abundance | 117032.0 resolving power | 11465.6 S/N | -0.7044 KMD\n",
      "18: 486.046059 m/z | 3.1490 abundance | 2058452.0 resolving power | 10636.0 S/N | -0.7567 KMD\n",
      "19: 703.032094 m/z | 2.8460 abundance | 1069929.0 resolving power | 9611.4 S/N | -0.6135 KMD\n",
      "20: 686.025509 m/z | 2.5840 abundance | 112938.0 resolving power | 8725.0 S/N | -0.6170 KMD\n"
     ]
    }
   ],
   "source": [
    "n = 20\n",
    "most_abundant_peaks = mass_spectrum.sort_by_abundance(reverse=True)[:n]\n",
    "\n",
    "print(f\"Most abundant peaks (top {n}):\")\n",
    "for i, mspeak in enumerate(most_abundant_peaks):\n",
    "    print(\n",
    "        f\"{i+1}: {mspeak.mz_exp:.6f} m/z | \"\n",
    "        f\"{mspeak.abundance:.4f} abundance | \" \n",
    "        f\"{mspeak.resolving_power:.1f} resolving power | \" \n",
    "        f\"{mspeak.signal_to_noise:.1f} S/N | \"\n",
    "        f\"{mspeak.kmd:.4f} KMD\" \n",
    "    )"
   ]
  },
  {
   "cell_type": "code",
   "execution_count": 8,
   "metadata": {},
   "outputs": [
    {
     "name": "stdout",
     "output_type": "stream",
     "text": [
      "Kendrick base: {'C': 2, 'H': 4, 'O': 1}\n"
     ]
    }
   ],
   "source": [
    "print(f\"Kendrick base: {mass_spectrum.mspeaks_settings.kendrick_base}\")\n"
   ]
  },
  {
   "cell_type": "markdown",
   "metadata": {},
   "source": [
    "### 4. Molecular formula search\n",
    "The formula database isn't built until the `SearchMolecularFormulas` method is run.\n",
    "\n",
    "See [database_initialization.md](/home/corems/docs/user_guide/database_initialization.md) and [molecular_formula_search.md](/home/corems/docs/user_guide/molecular_formula_search.md) for details about the molecular formula database and search process. Both database initialization and molecular formula searching rely establishing the relevant heteroatom space.\n",
    "\n",
    "Numerous parameters can be set to facilitate the molecular search process, including element number and element ratio constraints, and ppm and isotope abundance error constraints. Many of these constraints are illustrated below. In the following example, `first_hit = False`, meaning that peaks aren't skipped when a molecular formula has already been assigned."
   ]
  },
  {
   "cell_type": "code",
   "execution_count": 9,
   "metadata": {},
   "outputs": [
    {
     "name": "stdout",
     "output_type": "stream",
     "text": [
      "'runworker'  413.62 ms\n"
     ]
    },
    {
     "name": "stderr",
     "output_type": "stream",
     "text": [
      "Loading molecular formula database: 769279it [00:59, 12866.50it/s]\n",
      "Started molecular formula search for class {\"N\": 3, \"S\": 2, \"O\": 10}, (de)protonated : 100%|██████████| 300/300 [00:51<00:00,  5.81it/s]\n",
      "Loading molecular formula database: 349473it [00:29, 11898.91it/s]\n",
      "Started molecular formula search for class {\"N\": 4, \"S\": 2, \"O\": 30}, (de)protonated : 100%|██████████| 150/150 [00:19<00:00,  7.60it/s]\n"
     ]
    },
    {
     "name": "stdout",
     "output_type": "stream",
     "text": [
      "'run_molecular_formula'  162504.31 ms\n",
      "5680 assigned peaks and 18642 unassigned peaks, total  = 23.35 %, relative abundance = 36.38 %, RMS error (best candidate) (ppm) = 0.104\n"
     ]
    },
    {
     "data": {
      "text/plain": [
       "(5680, 18642, 23.353342652742374, 36.37864349608768, 0.10361630299541887)"
      ]
     },
     "execution_count": 9,
     "metadata": {},
     "output_type": "execute_result"
    }
   ],
   "source": [
    "from corems.molecular_id.search.molecularFormulaSearch import SearchMolecularFormulas\n",
    "\n",
    "# Ion Types\n",
    "mass_spectrum.molecular_search_settings.isProtonated = True\n",
    "mass_spectrum.molecular_search_settings.isRadical = False\n",
    "mass_spectrum.molecular_search_settings.isAdduct = False\n",
    "\n",
    "# Atom constraints\n",
    "mass_spectrum.molecular_search_settings.usedAtoms[\"C\"] = (1, 100)\n",
    "mass_spectrum.molecular_search_settings.usedAtoms[\"H\"] = (4, 200)   # Max H for C100 is 202\n",
    "mass_spectrum.molecular_search_settings.usedAtoms[\"N\"] = (0, 4)\n",
    "mass_spectrum.molecular_search_settings.usedAtoms[\"O\"] = (1, 30)\n",
    "# mass_spectrum.molecular_search_settings.usedAtoms[\"P\"] = (0, 1)\n",
    "mass_spectrum.molecular_search_settings.usedAtoms[\"S\"] = (0, 2)\n",
    "\n",
    "# Mass error constraints\n",
    "mass_spectrum.molecular_search_settings.error_method = \"None\"\n",
    "mass_spectrum.molecular_search_settings.min_ppm_error = -0.2   # Bahureksa paper 0.4\n",
    "mass_spectrum.molecular_search_settings.max_ppm_error = 0.2\n",
    "\n",
    "# DBE constraints - Can always throw out high Mod AI (> 0.5 = aromatic and > 0.67 = condensed aromatic)\n",
    "mass_spectrum.molecular_search_settings.min_dbe = 0\n",
    "mass_spectrum.molecular_search_settings.max_dbe = 66   # Max DBE 66 for C100 (empirical Max DBE = 2C/3)\n",
    "\n",
    "# H/C ratio constraints (Kind & Fiehn)\n",
    "mass_spectrum.molecular_search_settings.min_hc_filter = 0.2\n",
    "mass_spectrum.molecular_search_settings.max_hc_filter = 3.1\n",
    "\n",
    "# O/C ratio constraints (Kind & Fiehn)\n",
    "mass_spectrum.molecular_search_settings.min_oc_filter = 0\n",
    "mass_spectrum.molecular_search_settings.max_oc_filter = 1.2\n",
    "\n",
    "# O/P ratio constraints\n",
    "# mass_spectrum.molecular_search_settings.min_op_filter = 2\n",
    "\n",
    "# Isotope abundance constraints\n",
    "mass_spectrum.molecular_search_settings.min_abun_error = -15\n",
    "mass_spectrum.molecular_search_settings.max_abun_error = 15\n",
    "\n",
    "\n",
    "SearchMolecularFormulas(mass_spectrum, first_hit=True).run_worker_mass_spectrum()\n",
    "mass_spectrum.percentile_assigned(report_error=True)\n"
   ]
  },
  {
   "cell_type": "markdown",
   "metadata": {},
   "source": [
    "### 5. Visualizing Results\n",
    "\n",
    "The tools for exploring and visualizing molecular formula assignment results are primarily contained in `HeteroatomsClassification`, consistent with the use of heteroatom space to define search space."
   ]
  },
  {
   "cell_type": "code",
   "execution_count": 10,
   "metadata": {},
   "outputs": [
    {
     "data": {
      "text/plain": [
       "<Axes: xlabel='$\\t{m/z}$', ylabel='Abundance'>"
      ]
     },
     "execution_count": 10,
     "metadata": {},
     "output_type": "execute_result"
    },
    {
     "data": {
      "image/png": "[encoded data removed]",
      "text/plain": [
       "<Figure size 640x480 with 1 Axes>"
      ]
     },
     "metadata": {},
     "output_type": "display_data"
    }
   ],
   "source": [
    "from corems.molecular_id.factory.classification import HeteroatomsClassification\n",
    "\n",
    "mass_spectrum_by_classes = HeteroatomsClassification(\n",
    "    mass_spectrum, choose_molecular_formula=True\n",
    ")\n",
    "mass_spectrum_by_classes.plot_ms_assigned_unassigned()"
   ]
  },
  {
   "cell_type": "markdown",
   "metadata": {},
   "source": [
    "### 6. Exploring Mass Spectrum"
   ]
  },
  {
   "cell_type": "code",
   "execution_count": 11,
   "metadata": {},
   "outputs": [
    {
     "name": "stdout",
     "output_type": "stream",
     "text": [
      "Abundance: 3.15 | m/z: 486.046018 | Error: 0.084728 | DBE: 11.0 | H/C: 1.000000 | O/C: 0.705882 | AI mod: 0.142857 | KMD: -0.7566 | Class: N3 S1 O12 | Formula: C₁₇H₁₇O₁₂N₃S₁\n",
      "Abundance: 3.40 | m/z: 586.053330 | Error: 0.047027 | DBE: 9.0 | H/C: 1.166667 | O/C: 1.166667 | AI mod: 0.000000 | KMD: -0.7044 | Class: N1 O21 | Formula: C₁₈H₂₁O₂₁N₁\n",
      "Abundance: 3.47 | m/z: 686.012216 | Error: -0.031728 | DBE: 34.0 | H/C: 0.342105 | O/C: 0.184211 | AI mod: 0.864407 | KMD: -0.6037 | Class: N3 S2 O7 | Formula: C₃₈H₁₃O₇N₃S₂\n",
      "Abundance: 3.82 | m/z: 603.037977 | Error: 0.072598 | DBE: 35.0 | H/C: 0.315789 | O/C: 0.026316 | AI mod: 0.904762 | KMD: -0.6789 | Class: N4 S2 O1 | Formula: C₃₈H₁₂O₁N₄S₂\n",
      "Abundance: 4.20 | m/z: 586.044304 | Error: -0.121733 | DBE: 13.0 | H/C: 1.000000 | O/C: 0.619048 | AI mod: 0.157895 | KMD: -0.6954 | Class: N3 S2 O13 | Formula: C₂₁H₂₁O₁₃N₃S₂\n",
      "Abundance: 5.42 | m/z: 328.249332 | Error: 0.000127 | DBE: 2.0 | H/C: 1.944444 | O/C: 0.222222 | AI mod: 0.000000 | KMD: -0.0539 | Class: N1 O4 | Formula: C₁₈H₃₅O₄N₁\n",
      "Abundance: 5.73 | m/z: 688.029654 | Error: -0.056142 | DBE: 11.0 | H/C: 1.136364 | O/C: 0.909091 | AI mod: 0.000000 | KMD: -0.6200 | Class: N1 S1 34S1 O20 | Formula: C₂₂H₂₅O₂₀N₁S₁³⁴S₁\n",
      "Abundance: 8.61 | m/z: 588.035453 | Error: 0.114221 | DBE: 22.0 | H/C: 0.555556 | O/C: 0.407407 | AI mod: 0.714286 | KMD: -0.6853 | Class: N3 S1 O11 | Formula: C₂₇H₁₅O₁₁N₃S₁\n",
      "Abundance: 15.64 | m/z: 702.028773 | Error: -0.032502 | DBE: 11.0 | H/C: 1.136364 | O/C: 0.954545 | AI mod: 0.000000 | KMD: -0.6108 | Class: N1 S2 O21 | Formula: C₂₂H₂₅O₂₁N₁S₂\n",
      "Abundance: 63.32 | m/z: 686.033858 | Error: 0.000003 | DBE: 11.0 | H/C: 1.136364 | O/C: 0.909091 | AI mod: 0.000000 | KMD: -0.6254 | Class: N1 S2 O20 | Formula: C₂₂H₂₅O₂₀N₁S₂\n"
     ]
    }
   ],
   "source": [
    "for mspeaks in mass_spectrum.sort_by_abundance()[-20:]:\n",
    "    for mf in mspeaks:\n",
    "        print(f\"Abundance: {mspeaks.abundance:.2f} | \"\n",
    "              f\"m/z: {mf.mz_calc:.6f} | \"\n",
    "              f\"Error: {mf.mz_error:.6f} | \"\n",
    "              f\"DBE: {mf.dbe} | \"\n",
    "              f\"H/C: {mf.H_C:.6f} | \"\n",
    "              f\"O/C: {mf.O_C:.6f} | \"\n",
    "              f\"AI mod: {mf.A_I_mod:.6f} | \"\n",
    "              f\"KMD: {mf.kmd:.4f} | \"\n",
    "              f\"Class: {mf.class_label} | \"\n",
    "              f\"Formula: {mf.string_formated}\")"
   ]
  },
  {
   "cell_type": "markdown",
   "metadata": {},
   "source": [
    "### 7. Exporting Molecular Formula Results"
   ]
  },
  {
   "cell_type": "code",
   "execution_count": 12,
   "metadata": {},
   "outputs": [
    {
     "data": {
      "text/html": [
       "<div>\n",
       "<style scoped>\n",
       "    .dataframe tbody tr th:only-of-type {\n",
       "        vertical-align: middle;\n",
       "    }\n",
       "\n",
       "    .dataframe tbody tr th {\n",
       "        vertical-align: top;\n",
       "    }\n",
       "\n",
       "    .dataframe thead th {\n",
       "        text-align: right;\n",
       "    }\n",
       "</style>\n",
       "<table border=\"1\" class=\"dataframe\">\n",
       "  <thead>\n",
       "    <tr style=\"text-align: right;\">\n",
       "      <th></th>\n",
       "      <th>Index</th>\n",
       "      <th>m/z</th>\n",
       "      <th>Calibrated m/z</th>\n",
       "      <th>Calculated m/z</th>\n",
       "      <th>Peak Height</th>\n",
       "      <th>Peak Area</th>\n",
       "      <th>Resolving Power</th>\n",
       "      <th>S/N</th>\n",
       "      <th>Ion Charge</th>\n",
       "      <th>m/z Error (ppm)</th>\n",
       "      <th>...</th>\n",
       "      <th>H</th>\n",
       "      <th>O</th>\n",
       "      <th>N</th>\n",
       "      <th>S</th>\n",
       "      <th>13C</th>\n",
       "      <th>15N</th>\n",
       "      <th>18O</th>\n",
       "      <th>33S</th>\n",
       "      <th>34S</th>\n",
       "      <th>36S</th>\n",
       "    </tr>\n",
       "  </thead>\n",
       "  <tbody>\n",
       "    <tr>\n",
       "      <th>0</th>\n",
       "      <td>67</td>\n",
       "      <td>253.083025</td>\n",
       "      <td>253.083025</td>\n",
       "      <td>253.082995</td>\n",
       "      <td>0.002</td>\n",
       "      <td>NaN</td>\n",
       "      <td>2763531.0</td>\n",
       "      <td>4.404</td>\n",
       "      <td>-1</td>\n",
       "      <td>0.120097</td>\n",
       "      <td>...</td>\n",
       "      <td>14.0</td>\n",
       "      <td>5.0</td>\n",
       "      <td>2.0</td>\n",
       "      <td>NaN</td>\n",
       "      <td>NaN</td>\n",
       "      <td>NaN</td>\n",
       "      <td>NaN</td>\n",
       "      <td>NaN</td>\n",
       "      <td>NaN</td>\n",
       "      <td>NaN</td>\n",
       "    </tr>\n",
       "    <tr>\n",
       "      <th>1</th>\n",
       "      <td>74</td>\n",
       "      <td>253.217348</td>\n",
       "      <td>253.217348</td>\n",
       "      <td>253.217304</td>\n",
       "      <td>0.010</td>\n",
       "      <td>NaN</td>\n",
       "      <td>5756144.0</td>\n",
       "      <td>31.937</td>\n",
       "      <td>-1</td>\n",
       "      <td>0.175921</td>\n",
       "      <td>...</td>\n",
       "      <td>30.0</td>\n",
       "      <td>2.0</td>\n",
       "      <td>NaN</td>\n",
       "      <td>NaN</td>\n",
       "      <td>NaN</td>\n",
       "      <td>NaN</td>\n",
       "      <td>NaN</td>\n",
       "      <td>NaN</td>\n",
       "      <td>NaN</td>\n",
       "      <td>NaN</td>\n",
       "    </tr>\n",
       "    <tr>\n",
       "      <th>2</th>\n",
       "      <td>163</td>\n",
       "      <td>254.220705</td>\n",
       "      <td>254.220705</td>\n",
       "      <td>254.220659</td>\n",
       "      <td>0.002</td>\n",
       "      <td>NaN</td>\n",
       "      <td>6017322.0</td>\n",
       "      <td>4.652</td>\n",
       "      <td>-1</td>\n",
       "      <td>0.182169</td>\n",
       "      <td>...</td>\n",
       "      <td>30.0</td>\n",
       "      <td>2.0</td>\n",
       "      <td>NaN</td>\n",
       "      <td>NaN</td>\n",
       "      <td>1.0</td>\n",
       "      <td>NaN</td>\n",
       "      <td>NaN</td>\n",
       "      <td>NaN</td>\n",
       "      <td>NaN</td>\n",
       "      <td>NaN</td>\n",
       "    </tr>\n",
       "    <tr>\n",
       "      <th>3</th>\n",
       "      <td>246</td>\n",
       "      <td>255.160176</td>\n",
       "      <td>255.160176</td>\n",
       "      <td>255.160183</td>\n",
       "      <td>0.002</td>\n",
       "      <td>NaN</td>\n",
       "      <td>2115367.0</td>\n",
       "      <td>4.418</td>\n",
       "      <td>-1</td>\n",
       "      <td>-0.028216</td>\n",
       "      <td>...</td>\n",
       "      <td>24.0</td>\n",
       "      <td>4.0</td>\n",
       "      <td>NaN</td>\n",
       "      <td>NaN</td>\n",
       "      <td>NaN</td>\n",
       "      <td>NaN</td>\n",
       "      <td>NaN</td>\n",
       "      <td>NaN</td>\n",
       "      <td>NaN</td>\n",
       "      <td>NaN</td>\n",
       "    </tr>\n",
       "    <tr>\n",
       "      <th>4</th>\n",
       "      <td>249</td>\n",
       "      <td>255.196541</td>\n",
       "      <td>255.196541</td>\n",
       "      <td>255.196568</td>\n",
       "      <td>0.002</td>\n",
       "      <td>NaN</td>\n",
       "      <td>2934834.0</td>\n",
       "      <td>7.279</td>\n",
       "      <td>-1</td>\n",
       "      <td>-0.108578</td>\n",
       "      <td>...</td>\n",
       "      <td>28.0</td>\n",
       "      <td>3.0</td>\n",
       "      <td>NaN</td>\n",
       "      <td>NaN</td>\n",
       "      <td>NaN</td>\n",
       "      <td>NaN</td>\n",
       "      <td>NaN</td>\n",
       "      <td>NaN</td>\n",
       "      <td>NaN</td>\n",
       "      <td>NaN</td>\n",
       "    </tr>\n",
       "  </tbody>\n",
       "</table>\n",
       "<p>5 rows × 35 columns</p>\n",
       "</div>"
      ],
      "text/plain": [
       "   Index         m/z  Calibrated m/z  Calculated m/z  Peak Height  Peak Area  \\\n",
       "0     67  253.083025      253.083025      253.082995        0.002        NaN   \n",
       "1     74  253.217348      253.217348      253.217304        0.010        NaN   \n",
       "2    163  254.220705      254.220705      254.220659        0.002        NaN   \n",
       "3    246  255.160176      255.160176      255.160183        0.002        NaN   \n",
       "4    249  255.196541      255.196541      255.196568        0.002        NaN   \n",
       "\n",
       "   Resolving Power     S/N  Ion Charge  m/z Error (ppm)  ...     H    O    N  \\\n",
       "0        2763531.0   4.404          -1         0.120097  ...  14.0  5.0  2.0   \n",
       "1        5756144.0  31.937          -1         0.175921  ...  30.0  2.0  NaN   \n",
       "2        6017322.0   4.652          -1         0.182169  ...  30.0  2.0  NaN   \n",
       "3        2115367.0   4.418          -1        -0.028216  ...  24.0  4.0  NaN   \n",
       "4        2934834.0   7.279          -1        -0.108578  ...  28.0  3.0  NaN   \n",
       "\n",
       "    S  13C  15N 18O 33S  34S  36S  \n",
       "0 NaN  NaN  NaN NaN NaN  NaN  NaN  \n",
       "1 NaN  NaN  NaN NaN NaN  NaN  NaN  \n",
       "2 NaN  1.0  NaN NaN NaN  NaN  NaN  \n",
       "3 NaN  NaN  NaN NaN NaN  NaN  NaN  \n",
       "4 NaN  NaN  NaN NaN NaN  NaN  NaN  \n",
       "\n",
       "[5 rows x 35 columns]"
      ]
     },
     "execution_count": 12,
     "metadata": {},
     "output_type": "execute_result"
    }
   ],
   "source": [
    "# exporting data\n",
    "base_dir = Path(\"/home/corems/data\")\n",
    "exports_dir = base_dir / \"exports\"\n",
    "\n",
    "# Create output paths for different formats\n",
    "csv_file = exports_dir / \"Ansulite_CoreMS.csv\"\n",
    "\n",
    "# Save in different formats\n",
    "mass_spectrum.to_csv(str(csv_file))\n",
    "\n",
    "# get pandas Dataframe\n",
    "df = mass_spectrum.to_dataframe()\n",
    "df.head()"
   ]
  },
  {
   "cell_type": "markdown",
   "metadata": {},
   "source": [
    "`mass_spectrum.to_csv` and `mass_spectrum.to_dataframe` produce tables with the following columns."
   ]
  },
  {
   "cell_type": "code",
   "execution_count": 13,
   "metadata": {},
   "outputs": [
    {
     "name": "stdout",
     "output_type": "stream",
     "text": [
      "Index\n",
      "m/z\n",
      "Calibrated m/z\n",
      "Calculated m/z\n",
      "Peak Height\n",
      "Peak Area\n",
      "Resolving Power\n",
      "S/N\n",
      "Ion Charge\n",
      "m/z Error (ppm)\n",
      "m/z Error Score\n",
      "Isotopologue Similarity\n",
      "Confidence Score\n",
      "DBE\n",
      "O/C\n",
      "H/C\n",
      "Heteroatom Class\n",
      "Ion Type\n",
      "Adduct\n",
      "Is Isotopologue\n",
      "Mono Isotopic Index\n",
      "Molecular Formula\n",
      "KMD\n",
      "Formula KMD\n",
      "C\n",
      "H\n",
      "O\n",
      "N\n",
      "S\n",
      "13C\n",
      "15N\n",
      "18O\n",
      "33S\n",
      "34S\n",
      "36S\n"
     ]
    }
   ],
   "source": [
    "for col in df.columns:\n",
    "    print(col)"
   ]
  }
 ],
 "metadata": {
  "kernelspec": {
   "display_name": "Python 3",
   "language": "python",
   "name": "python3"
  },
  "language_info": {
   "codemirror_mode": {
    "name": "ipython",
    "version": 3
   },
   "file_extension": ".py",
   "mimetype": "text/x-python",
   "name": "python",
   "nbconvert_exporter": "python",
   "pygments_lexer": "ipython3",
   "version": "3.10.16"
  }
 },
 "nbformat": 4,
 "nbformat_minor": 4
}
