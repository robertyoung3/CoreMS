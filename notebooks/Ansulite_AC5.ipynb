{
 "cells": [
  {
   "cell_type": "markdown",
   "metadata": {},
   "source": [
    "# CoreMS Assignments to Ansulite AC5\n",
    "\n",
    "`CoreMS` framework for mass spectrum\n"
   ]
  },
  {
   "cell_type": "markdown",
   "metadata": {},
   "source": [
    "### 1. Import Data File\n"
   ]
  },
  {
   "cell_type": "code",
   "execution_count": 1,
   "metadata": {},
   "outputs": [
    {
     "name": "stdout",
     "output_type": "stream",
     "text": [
      "/home/corems/data/user_data\n"
     ]
    }
   ],
   "source": [
    "from pathlib import Path\n",
    "\n",
    "data_dir = Path.cwd() / \"data\" / \"user_data\"\n",
    "print(data_dir)"
   ]
  },
  {
   "cell_type": "code",
   "execution_count": 2,
   "metadata": {},
   "outputs": [
    {
     "name": "stdout",
     "output_type": "stream",
     "text": [
      "0: /home/corems/data/user_data/1p5_NegESI_SRFA_AfterSW28_sum50_ABS_3sigma.pks\n",
      "1: /home/corems/data/user_data/2020September23NegESI_PFAS_AFFF_1_10000_sum250_Rephased.pks\n",
      "2: /home/corems/data/user_data/2020September23PosESI_PFAS_AFFF_1_10000_sum250_Rephased.pks\n",
      "3: /home/corems/data/user_data/2021May20_SRFA_Sum568_6p3s_1E6_3sigma_101221.pks\n",
      "4: /home/corems/data/user_data/2023July28_NegESI_Guardian_AFFFC_wSRFA_4s_3E6_sum150_3sigma.pks\n",
      "5: /home/corems/data/user_data/2023July28_NegESI_Guardian_AFFFC_wSRFA_4s_8E5_sum150_3sigma.pks\n",
      "6: /home/corems/data/user_data/2023July28_NegESI_Jacobs3M_AFFF_wSRFA_4s_8E5_sum100_3sigma.pks\n",
      "7: /home/corems/data/user_data/2023July28_NegESI_PetersonBucket_AFFF_wSRFA_4s_3E6_sum100_3sigma.pks\n",
      "8: /home/corems/data/user_data/2024March21_NegESI_Angus_Alcoseal_106004E_sum250_3sigma.pks\n",
      "9: /home/corems/data/user_data/2024March21_NegESI_Angus_Alcoseal_1060_24_sum250_3sigma.pks\n",
      "10: /home/corems/data/user_data/2024March21_NegESI_Angus_Alcoseal_1061_01_02_sum250_3sigma.pks\n",
      "11: /home/corems/data/user_data/2024March21_NegESI_Ansulite_AC5_sum100_3sigma.pks\n",
      "12: /home/corems/data/user_data/2024March21_NegESI_Ansulite_sum100_3sigma.pks\n",
      "13: /home/corems/data/user_data/2024March21_NegESI_Orchidee_Orchidex_AFFF_sum100_3sigma.pks\n",
      "14: /home/corems/data/user_data/2024March21_NegESI_Tyco_Towalex_sum100_3sigma.pks\n",
      "15: /home/corems/data/user_data/AFFF_PetersonBucket.csv\n"
     ]
    }
   ],
   "source": [
    "filepaths = list(data_dir.iterdir())\n",
    "for idx, filepath in enumerate(filepaths):\n",
    "    print(f\"{idx}: {filepath}\")"
   ]
  },
  {
   "cell_type": "markdown",
   "metadata": {},
   "source": [
    "### 2. Import Centroid Mass List Files\n",
    "\n",
    "See [MS_file_imports.md](/home/corems/docs/user_guide/MS_file_imports.md) for details on the class methods, parameters and settings used for mass list file imports."
   ]
  },
  {
   "cell_type": "markdown",
   "metadata": {},
   "source": [
    "#### .pks Files\n",
    "\n",
    "`.pks` files are .txt files exported from Predator Analysis software in a custom format. When the .pks file extension is detected, this format is used for importing the mass spectral data with user-specified `MassSpectrumSetting`s.\n",
    "\n",
    "In the following example, the noise threshold method is `\"signal_noise\"`, and the minimum is set to `6` (default=6). The m/z range is also set explicitly.\n",
    "\n",
    "Filtering based on noise threshold and mz range occur when `auto_process=True`. Settings are read from a JSON or other file when `loadSettings=True`. Currently, this feature is not fully implemented.\n",
    "\n",
    "The total number of peaks (92,307) is illustrated with `len(mass_spectrum)`."
   ]
  },
  {
   "cell_type": "code",
   "execution_count": 4,
   "metadata": {},
   "outputs": [
    {
     "name": "stdout",
     "output_type": "stream",
     "text": [
      "file locations: /home/corems/data/user_data/2024March21_NegESI_Ansulite_AC5_sum100_3sigma.pks\n"
     ]
    }
   ],
   "source": [
    "# Imports\n",
    "from corems.encapsulation.factory.parameters import MSParameters\n",
    "from corems.mass_spectrum.input.massList import ReadMassList\n",
    "\n",
    "# Choose noise threshold method and minimum value\n",
    "MSParameters.mass_spectrum.noise_threshold_method = \"signal_noise\"\n",
    "MSParameters.mass_spectrum.noise_threshold_min_s2n = 4\n",
    "\n",
    "# Set m/z range for peak picking and noise threshold\n",
    "MSParameters.mass_spectrum.noise_min_mz = 50.0\n",
    "MSParameters.mass_spectrum.noise_max_mz = 1500.0\n",
    "MSParameters.mass_spectrum.min_picking_mz = 50.0\n",
    "MSParameters.mass_spectrum.max_picking_mz = 1500.0\n",
    "\n",
    "# Set Kendrick base\n",
    "kb = {\"C\": 2, \"H\": 4, \"O\": 1}\n",
    "MSParameters.ms_peak.kendrick_base = kb\n",
    "\n",
    "# Specify file path\n",
    "file_location = filepaths[11]\n",
    "print(f\"file locations: {file_location}\")"
   ]
  },
  {
   "cell_type": "code",
   "execution_count": 5,
   "metadata": {},
   "outputs": [
    {
     "name": "stdout",
     "output_type": "stream",
     "text": [
      "26857\n",
      "Mass spectrum label: CoreMS_Centroid\n",
      "Baseline noise: 0.002005576208178439\n",
      "Baseline noise std: 7.446552276583691e-05\n",
      "Is centroid: True\n"
     ]
    },
    {
     "data": {
      "image/png": "[encoded data removed]",
      "text/plain": [
       "<Figure size 640x480 with 1 Axes>"
      ]
     },
     "metadata": {},
     "output_type": "display_data"
    }
   ],
   "source": [
    "mass_list_reader = ReadMassList(file_location)\n",
    "\n",
    "# Import centroided spectrum\n",
    "mass_spectrum = mass_list_reader.get_mass_spectrum(\n",
    "    polarity=-1, auto_process=True, loadSettings=False\n",
    ")\n",
    "print(len(mass_spectrum))\n",
    "\n",
    "# Debug information to understand the issue\n",
    "print(f\"Mass spectrum label: {mass_spectrum.label}\")\n",
    "print(f\"Baseline noise: {mass_spectrum.baseline_noise}\")\n",
    "print(f\"Baseline noise std: {mass_spectrum.baseline_noise_std}\")\n",
    "print(f\"Is centroid: {mass_spectrum.is_centroid}\")\n",
    "\n",
    "# Check if noise threshold values exist before plotting\n",
    "if mass_spectrum.baseline_noise is not None and mass_spectrum.baseline_noise_std is not None:\n",
    "    # Plot the mass spectrum\n",
    "    mass_spectrum.plot_profile_and_noise_threshold()\n",
    "else:\n",
    "    print(\"Noise threshold not calculated. Calculating manually...\")\n",
    "    mass_spectrum.cal_noise_threshold()\n",
    "    print(f\"After manual calculation - Baseline noise: {mass_spectrum.baseline_noise}\")\n",
    "    print(f\"After manual calculation - Baseline noise std: {mass_spectrum.baseline_noise_std}\")\n",
    "    # Now try plotting\n",
    "    mass_spectrum.plot_profile_and_noise_threshold()"
   ]
  },
  {
   "cell_type": "markdown",
   "metadata": {},
   "source": [
    "### 3. Access mass spectrum peak objects\n"
   ]
  },
  {
   "cell_type": "code",
   "execution_count": 6,
   "metadata": {},
   "outputs": [
    {
     "name": "stdout",
     "output_type": "stream",
     "text": [
      "Most abundant peaks (top 20):\n",
      "1: 586.039709 m/z | 100.0000 abundance | 1134244.0 resolving power | 210202.8 S/N | -0.6908 KMD\n",
      "2: 602.034628 m/z | 51.0420 abundance | 1054058.0 resolving power | 107291.9 S/N | -0.6762 KMD\n",
      "3: 283.264240 m/z | 24.2310 abundance | 2377702.0 resolving power | 50933.6 S/N | -0.0956 KMD\n",
      "4: 255.232944 m/z | 16.4220 abundance | 3134908.0 resolving power | 34519.5 S/N | -0.0810 KMD\n",
      "5: 587.043073 m/z | 15.7930 abundance | 1080358.0 resolving power | 33197.2 S/N | -0.6935 KMD\n",
      "6: 588.035513 m/z | 9.1840 abundance | 1196598.0 resolving power | 19303.9 S/N | -0.6854 KMD\n",
      "7: 603.037975 m/z | 8.2390 abundance | 1041757.0 resolving power | 17318.0 S/N | -0.6789 KMD\n",
      "8: 325.184286 m/z | 7.3010 abundance | 1751044.0 resolving power | 15346.6 S/N | -0.9907 KMD\n",
      "9: 586.024213 m/z | 6.6830 abundance | 109925.0 resolving power | 14047.7 S/N | -0.6753 KMD\n",
      "10: 311.168643 m/z | 6.1740 abundance | 1854786.0 resolving power | 12976.0 S/N | -0.9834 KMD\n",
      "11: 586.044326 m/z | 5.7690 abundance | 117959.0 resolving power | 12125.8 S/N | -0.6954 KMD\n",
      "12: 328.249332 m/z | 5.4890 abundance | 1617004.0 resolving power | 11537.0 S/N | -0.0539 KMD\n",
      "13: 586.033819 m/z | 5.2850 abundance | 131315.0 resolving power | 11108.5 S/N | -0.6849 KMD\n",
      "14: 586.053430 m/z | 4.6660 abundance | 117157.0 resolving power | 9807.7 S/N | -0.7045 KMD\n",
      "15: 604.030389 m/z | 4.6370 abundance | 1042871.0 resolving power | 9746.7 S/N | -0.6707 KMD\n",
      "16: 339.199939 m/z | 4.4930 abundance | 1504937.0 resolving power | 9442.8 S/N | -0.9980 KMD\n",
      "17: 284.267609 m/z | 4.4550 abundance | 2285679.0 resolving power | 9362.8 S/N | -0.0983 KMD\n",
      "18: 602.018234 m/z | 3.6730 abundance | 106677.0 resolving power | 7719.9 S/N | -0.6598 KMD\n",
      "19: 602.039602 m/z | 2.9340 abundance | 119906.0 resolving power | 6167.3 S/N | -0.6811 KMD\n",
      "20: 335.049389 m/z | 2.8890 abundance | 1791059.0 resolving power | 6072.2 S/N | -0.8499 KMD\n"
     ]
    }
   ],
   "source": [
    "n = 20\n",
    "most_abundant_peaks = mass_spectrum.sort_by_abundance(reverse=True)[:n]\n",
    "\n",
    "print(f\"Most abundant peaks (top {n}):\")\n",
    "for i, mspeak in enumerate(most_abundant_peaks):\n",
    "    print(\n",
    "        f\"{i+1}: {mspeak.mz_exp:.6f} m/z | \"\n",
    "        f\"{mspeak.abundance:.4f} abundance | \" \n",
    "        f\"{mspeak.resolving_power:.1f} resolving power | \" \n",
    "        f\"{mspeak.signal_to_noise:.1f} S/N | \"\n",
    "        f\"{mspeak.kmd:.4f} KMD\" \n",
    "    )"
   ]
  },
  {
   "cell_type": "code",
   "execution_count": 7,
   "metadata": {},
   "outputs": [
    {
     "name": "stdout",
     "output_type": "stream",
     "text": [
      "Kendrick base: {'C': 2, 'H': 4, 'O': 1}\n"
     ]
    }
   ],
   "source": [
    "print(f\"Kendrick base: {mass_spectrum.mspeaks_settings.kendrick_base}\")\n"
   ]
  },
  {
   "cell_type": "markdown",
   "metadata": {},
   "source": [
    "### 4. Molecular formula search\n",
    "The formula database isn't built until the `SearchMolecularFormulas` method is run.\n",
    "\n",
    "See [database_initialization.md](/home/corems/docs/user_guide/database_initialization.md) and [molecular_formula_search.md](/home/corems/docs/user_guide/molecular_formula_search.md) for details about the molecular formula database and search process. Both database initialization and molecular formula searching rely establishing the relevant heteroatom space.\n",
    "\n",
    "Numerous parameters can be set to facilitate the molecular search process, including element number and element ratio constraints, and ppm and isotope abundance error constraints. Many of these constraints are illustrated below. In the following example, `first_hit = False`, meaning that peaks aren't skipped when a molecular formula has already been assigned."
   ]
  },
  {
   "cell_type": "code",
   "execution_count": 8,
   "metadata": {},
   "outputs": [
    {
     "name": "stdout",
     "output_type": "stream",
     "text": [
      "'runworker'  438.66 ms\n"
     ]
    },
    {
     "name": "stderr",
     "output_type": "stream",
     "text": [
      "Loading molecular formula database: 652698it [00:50, 12934.15it/s]\n",
      "Started molecular formula search for class {\"N\": 3, \"S\": 2, \"O\": 10}, (de)protonated : 100%|██████████| 300/300 [00:50<00:00,  6.00it/s]\n",
      "Loading molecular formula database: 289988it [00:26, 10907.59it/s]\n",
      "Started molecular formula search for class {\"N\": 4, \"S\": 2, \"O\": 30}, (de)protonated : 100%|██████████| 150/150 [00:19<00:00,  7.66it/s]\n"
     ]
    },
    {
     "name": "stdout",
     "output_type": "stream",
     "text": [
      "'run_molecular_formula'  148169.54 ms\n",
      "4634 assigned peaks and 22223 unassigned peaks, total  = 17.25 %, relative abundance = 32.70 %, RMS error (best candidate) (ppm) = 0.100\n"
     ]
    },
    {
     "data": {
      "text/plain": [
       "(4634, 22223, 17.254347097590944, 32.69676564742228, 0.10004847042430458)"
      ]
     },
     "execution_count": 8,
     "metadata": {},
     "output_type": "execute_result"
    }
   ],
   "source": [
    "from corems.molecular_id.search.molecularFormulaSearch import SearchMolecularFormulas\n",
    "\n",
    "# Ion Types\n",
    "mass_spectrum.molecular_search_settings.isProtonated = True\n",
    "mass_spectrum.molecular_search_settings.isRadical = False\n",
    "mass_spectrum.molecular_search_settings.isAdduct = False\n",
    "\n",
    "# Atom constraints\n",
    "mass_spectrum.molecular_search_settings.usedAtoms[\"C\"] = (1, 100)\n",
    "mass_spectrum.molecular_search_settings.usedAtoms[\"H\"] = (4, 200)   # Max H for C100 is 202\n",
    "mass_spectrum.molecular_search_settings.usedAtoms[\"N\"] = (0, 4)\n",
    "mass_spectrum.molecular_search_settings.usedAtoms[\"O\"] = (1, 30)\n",
    "# mass_spectrum.molecular_search_settings.usedAtoms[\"P\"] = (0, 1)\n",
    "mass_spectrum.molecular_search_settings.usedAtoms[\"S\"] = (0, 2)\n",
    "\n",
    "# Mass error constraints\n",
    "mass_spectrum.molecular_search_settings.error_method = \"None\"\n",
    "mass_spectrum.molecular_search_settings.min_ppm_error = -0.2   # Bahureksa paper 0.4\n",
    "mass_spectrum.molecular_search_settings.max_ppm_error = 0.2\n",
    "\n",
    "# DBE constraints - Can always throw out high Mod AI (> 0.5 = aromatic and > 0.67 = condensed aromatic)\n",
    "mass_spectrum.molecular_search_settings.min_dbe = 0\n",
    "mass_spectrum.molecular_search_settings.max_dbe = 66   # Max DBE 66 for C100 (empirical Max DBE = 2C/3)\n",
    "\n",
    "# H/C ratio constraints (Kind & Fiehn)\n",
    "mass_spectrum.molecular_search_settings.min_hc_filter = 0.2\n",
    "mass_spectrum.molecular_search_settings.max_hc_filter = 3.1\n",
    "\n",
    "# O/C ratio constraints (Kind & Fiehn)\n",
    "mass_spectrum.molecular_search_settings.min_oc_filter = 0\n",
    "mass_spectrum.molecular_search_settings.max_oc_filter = 1.2\n",
    "\n",
    "# O/P ratio constraints\n",
    "# mass_spectrum.molecular_search_settings.min_op_filter = 2\n",
    "\n",
    "# Isotope abundance constraints\n",
    "mass_spectrum.molecular_search_settings.min_abun_error = -15\n",
    "mass_spectrum.molecular_search_settings.max_abun_error = 15\n",
    "\n",
    "\n",
    "SearchMolecularFormulas(mass_spectrum, first_hit=True).run_worker_mass_spectrum()\n",
    "mass_spectrum.percentile_assigned(report_error=True)\n"
   ]
  },
  {
   "cell_type": "markdown",
   "metadata": {},
   "source": [
    "### 5. Visualizing Results\n",
    "\n",
    "The tools for exploring and visualizing molecular formula assignment results are primarily contained in `HeteroatomsClassification`, consistent with the use of heteroatom space to define search space."
   ]
  },
  {
   "cell_type": "code",
   "execution_count": 9,
   "metadata": {},
   "outputs": [
    {
     "data": {
      "text/plain": [
       "<Axes: xlabel='$\\t{m/z}$', ylabel='Abundance'>"
      ]
     },
     "execution_count": 9,
     "metadata": {},
     "output_type": "execute_result"
    },
    {
     "data": {
      "image/png": "[encoded data removed]",
      "text/plain": [
       "<Figure size 640x480 with 1 Axes>"
      ]
     },
     "metadata": {},
     "output_type": "display_data"
    }
   ],
   "source": [
    "from corems.molecular_id.factory.classification import HeteroatomsClassification\n",
    "\n",
    "mass_spectrum_by_classes = HeteroatomsClassification(\n",
    "    mass_spectrum, choose_molecular_formula=True\n",
    ")\n",
    "mass_spectrum_by_classes.plot_ms_assigned_unassigned()"
   ]
  },
  {
   "cell_type": "markdown",
   "metadata": {},
   "source": [
    "### 6. Exploring Mass Spectrum"
   ]
  },
  {
   "cell_type": "code",
   "execution_count": 10,
   "metadata": {},
   "outputs": [
    {
     "name": "stdout",
     "output_type": "stream",
     "text": [
      "Abundance: 4.46 | m/z: 284.267609 | Error: 0.000063 | DBE: 1.0 | H/C: 2.000000 | O/C: 0.111111 | AI mod: 0.000000 | KMD: -0.0983 | Class: 13C1 O2 | Formula: C₁₇H₃₆O₂¹³C₁\n",
      "Abundance: 4.49 | m/z: 339.199940 | Error: -0.001805 | DBE: 4.0 | H/C: 1.684211 | O/C: 0.157895 | AI mod: 0.090909 | KMD: -0.9980 | Class: S1 O3 | Formula: C₁₉H₃₂O₃S₁\n",
      "Abundance: 4.64 | m/z: 604.030368 | Error: 0.034678 | DBE: 22.0 | H/C: 0.555556 | O/C: 0.444444 | AI mod: 0.705882 | KMD: -0.6707 | Class: N3 S1 O12 | Formula: C₂₇H₁₅O₁₂N₃S₁\n",
      "Abundance: 4.67 | m/z: 586.053330 | Error: 0.169541 | DBE: 9.0 | H/C: 1.166667 | O/C: 1.166667 | AI mod: 0.000000 | KMD: -0.7044 | Class: N1 O21 | Formula: C₁₈H₂₁O₂₁N₁\n",
      "Abundance: 5.49 | m/z: 328.249332 | Error: 0.000127 | DBE: 2.0 | H/C: 1.944444 | O/C: 0.222222 | AI mod: 0.000000 | KMD: -0.0539 | Class: N1 O4 | Formula: C₁₈H₃₅O₄N₁\n",
      "Abundance: 5.77 | m/z: 586.044304 | Error: 0.038835 | DBE: 13.0 | H/C: 1.000000 | O/C: 0.619048 | AI mod: 0.157895 | KMD: -0.6954 | Class: N3 S2 O13 | Formula: C₂₁H₂₁O₁₃N₃S₂\n",
      "Abundance: 6.17 | m/z: 311.168639 | Error: 0.012909 | DBE: 4.0 | H/C: 1.647059 | O/C: 0.176471 | AI mod: 0.103448 | KMD: -0.9834 | Class: S1 O3 | Formula: C₁₇H₂₈O₃S₁\n",
      "Abundance: 7.30 | m/z: 325.184290 | Error: -0.011525 | DBE: 4.0 | H/C: 1.666667 | O/C: 0.166667 | AI mod: 0.096774 | KMD: -0.9907 | Class: S1 O3 | Formula: C₁₈H₃₀O₃S₁\n",
      "Abundance: 8.24 | m/z: 603.037977 | Error: -0.003019 | DBE: 35.0 | H/C: 0.315789 | O/C: 0.026316 | AI mod: 0.904762 | KMD: -0.6789 | Class: N4 S2 O1 | Formula: C₃₈H₁₂O₁N₄S₂\n",
      "Abundance: 9.18 | m/z: 588.035453 | Error: 0.102657 | DBE: 22.0 | H/C: 0.555556 | O/C: 0.407407 | AI mod: 0.714286 | KMD: -0.6853 | Class: N3 S1 O11 | Formula: C₂₇H₁₅O₁₁N₃S₁\n",
      "Abundance: 16.42 | m/z: 255.232954 | Error: -0.036900 | DBE: 1.0 | H/C: 2.000000 | O/C: 0.125000 | AI mod: 0.000000 | KMD: -0.0810 | Class: O2 | Formula: C₁₆H₃₂O₂\n",
      "Abundance: 24.23 | m/z: 283.264254 | Error: -0.048531 | DBE: 1.0 | H/C: 2.000000 | O/C: 0.111111 | AI mod: 0.000000 | KMD: -0.0956 | Class: O2 | Formula: C₁₈H₃₆O₂\n"
     ]
    }
   ],
   "source": [
    "for mspeaks in mass_spectrum.sort_by_abundance()[-20:]:\n",
    "    for mf in mspeaks:\n",
    "        print(f\"Abundance: {mspeaks.abundance:.2f} | \"\n",
    "              f\"m/z: {mf.mz_calc:.6f} | \"\n",
    "              f\"Error: {mf.mz_error:.6f} | \"\n",
    "              f\"DBE: {mf.dbe} | \"\n",
    "              f\"H/C: {mf.H_C:.6f} | \"\n",
    "              f\"O/C: {mf.O_C:.6f} | \"\n",
    "              f\"AI mod: {mf.A_I_mod:.6f} | \"\n",
    "              f\"KMD: {mf.kmd:.4f} | \"\n",
    "              f\"Class: {mf.class_label} | \"\n",
    "              f\"Formula: {mf.string_formated}\")"
   ]
  },
  {
   "cell_type": "markdown",
   "metadata": {},
   "source": [
    "### 7. Exporting Molecular Formula Results"
   ]
  },
  {
   "cell_type": "code",
   "execution_count": 11,
   "metadata": {},
   "outputs": [
    {
     "data": {
      "text/html": [
       "<div>\n",
       "<style scoped>\n",
       "    .dataframe tbody tr th:only-of-type {\n",
       "        vertical-align: middle;\n",
       "    }\n",
       "\n",
       "    .dataframe tbody tr th {\n",
       "        vertical-align: top;\n",
       "    }\n",
       "\n",
       "    .dataframe thead th {\n",
       "        text-align: right;\n",
       "    }\n",
       "</style>\n",
       "<table border=\"1\" class=\"dataframe\">\n",
       "  <thead>\n",
       "    <tr style=\"text-align: right;\">\n",
       "      <th></th>\n",
       "      <th>Index</th>\n",
       "      <th>m/z</th>\n",
       "      <th>Calibrated m/z</th>\n",
       "      <th>Calculated m/z</th>\n",
       "      <th>Peak Height</th>\n",
       "      <th>Peak Area</th>\n",
       "      <th>Resolving Power</th>\n",
       "      <th>S/N</th>\n",
       "      <th>Ion Charge</th>\n",
       "      <th>m/z Error (ppm)</th>\n",
       "      <th>...</th>\n",
       "      <th>H</th>\n",
       "      <th>O</th>\n",
       "      <th>N</th>\n",
       "      <th>S</th>\n",
       "      <th>13C</th>\n",
       "      <th>15N</th>\n",
       "      <th>17O</th>\n",
       "      <th>18O</th>\n",
       "      <th>33S</th>\n",
       "      <th>34S</th>\n",
       "    </tr>\n",
       "  </thead>\n",
       "  <tbody>\n",
       "    <tr>\n",
       "      <th>0</th>\n",
       "      <td>103</td>\n",
       "      <td>181.991749</td>\n",
       "      <td>181.991749</td>\n",
       "      <td>181.991738</td>\n",
       "      <td>0.003</td>\n",
       "      <td>NaN</td>\n",
       "      <td>5434057.0</td>\n",
       "      <td>5.637</td>\n",
       "      <td>-1</td>\n",
       "      <td>0.061836</td>\n",
       "      <td>...</td>\n",
       "      <td>5.0</td>\n",
       "      <td>3.0</td>\n",
       "      <td>1.0</td>\n",
       "      <td>1.0</td>\n",
       "      <td>NaN</td>\n",
       "      <td>NaN</td>\n",
       "      <td>NaN</td>\n",
       "      <td>NaN</td>\n",
       "      <td>NaN</td>\n",
       "      <td>NaN</td>\n",
       "    </tr>\n",
       "    <tr>\n",
       "      <th>1</th>\n",
       "      <td>268</td>\n",
       "      <td>182.990323</td>\n",
       "      <td>182.990323</td>\n",
       "      <td>182.990358</td>\n",
       "      <td>0.003</td>\n",
       "      <td>NaN</td>\n",
       "      <td>7381516.0</td>\n",
       "      <td>4.648</td>\n",
       "      <td>-1</td>\n",
       "      <td>-0.188654</td>\n",
       "      <td>...</td>\n",
       "      <td>8.0</td>\n",
       "      <td>3.0</td>\n",
       "      <td>2.0</td>\n",
       "      <td>2.0</td>\n",
       "      <td>NaN</td>\n",
       "      <td>NaN</td>\n",
       "      <td>NaN</td>\n",
       "      <td>NaN</td>\n",
       "      <td>NaN</td>\n",
       "      <td>NaN</td>\n",
       "    </tr>\n",
       "    <tr>\n",
       "      <th>2</th>\n",
       "      <td>272</td>\n",
       "      <td>183.012148</td>\n",
       "      <td>183.012148</td>\n",
       "      <td>183.012139</td>\n",
       "      <td>0.005</td>\n",
       "      <td>NaN</td>\n",
       "      <td>4994341.0</td>\n",
       "      <td>10.337</td>\n",
       "      <td>-1</td>\n",
       "      <td>0.052244</td>\n",
       "      <td>...</td>\n",
       "      <td>8.0</td>\n",
       "      <td>3.0</td>\n",
       "      <td>NaN</td>\n",
       "      <td>1.0</td>\n",
       "      <td>NaN</td>\n",
       "      <td>NaN</td>\n",
       "      <td>NaN</td>\n",
       "      <td>NaN</td>\n",
       "      <td>NaN</td>\n",
       "      <td>NaN</td>\n",
       "    </tr>\n",
       "    <tr>\n",
       "      <th>3</th>\n",
       "      <td>274</td>\n",
       "      <td>183.015990</td>\n",
       "      <td>183.015990</td>\n",
       "      <td>183.015978</td>\n",
       "      <td>0.016</td>\n",
       "      <td>NaN</td>\n",
       "      <td>3823998.0</td>\n",
       "      <td>33.270</td>\n",
       "      <td>-1</td>\n",
       "      <td>0.065171</td>\n",
       "      <td>...</td>\n",
       "      <td>4.0</td>\n",
       "      <td>4.0</td>\n",
       "      <td>4.0</td>\n",
       "      <td>NaN</td>\n",
       "      <td>NaN</td>\n",
       "      <td>NaN</td>\n",
       "      <td>NaN</td>\n",
       "      <td>NaN</td>\n",
       "      <td>NaN</td>\n",
       "      <td>NaN</td>\n",
       "    </tr>\n",
       "    <tr>\n",
       "      <th>4</th>\n",
       "      <td>282</td>\n",
       "      <td>183.044529</td>\n",
       "      <td>183.044529</td>\n",
       "      <td>183.044502</td>\n",
       "      <td>0.003</td>\n",
       "      <td>NaN</td>\n",
       "      <td>4526446.0</td>\n",
       "      <td>4.496</td>\n",
       "      <td>-1</td>\n",
       "      <td>0.150805</td>\n",
       "      <td>...</td>\n",
       "      <td>12.0</td>\n",
       "      <td>4.0</td>\n",
       "      <td>2.0</td>\n",
       "      <td>1.0</td>\n",
       "      <td>NaN</td>\n",
       "      <td>NaN</td>\n",
       "      <td>NaN</td>\n",
       "      <td>NaN</td>\n",
       "      <td>NaN</td>\n",
       "      <td>NaN</td>\n",
       "    </tr>\n",
       "  </tbody>\n",
       "</table>\n",
       "<p>5 rows × 35 columns</p>\n",
       "</div>"
      ],
      "text/plain": [
       "   Index         m/z  Calibrated m/z  Calculated m/z  Peak Height  Peak Area  \\\n",
       "0    103  181.991749      181.991749      181.991738        0.003        NaN   \n",
       "1    268  182.990323      182.990323      182.990358        0.003        NaN   \n",
       "2    272  183.012148      183.012148      183.012139        0.005        NaN   \n",
       "3    274  183.015990      183.015990      183.015978        0.016        NaN   \n",
       "4    282  183.044529      183.044529      183.044502        0.003        NaN   \n",
       "\n",
       "   Resolving Power     S/N  Ion Charge  m/z Error (ppm)  ...     H    O    N  \\\n",
       "0        5434057.0   5.637          -1         0.061836  ...   5.0  3.0  1.0   \n",
       "1        7381516.0   4.648          -1        -0.188654  ...   8.0  3.0  2.0   \n",
       "2        4994341.0  10.337          -1         0.052244  ...   8.0  3.0  NaN   \n",
       "3        3823998.0  33.270          -1         0.065171  ...   4.0  4.0  4.0   \n",
       "4        4526446.0   4.496          -1         0.150805  ...  12.0  4.0  2.0   \n",
       "\n",
       "     S  13C  15N 17O 18O  33S  34S  \n",
       "0  1.0  NaN  NaN NaN NaN  NaN  NaN  \n",
       "1  2.0  NaN  NaN NaN NaN  NaN  NaN  \n",
       "2  1.0  NaN  NaN NaN NaN  NaN  NaN  \n",
       "3  NaN  NaN  NaN NaN NaN  NaN  NaN  \n",
       "4  1.0  NaN  NaN NaN NaN  NaN  NaN  \n",
       "\n",
       "[5 rows x 35 columns]"
      ]
     },
     "execution_count": 11,
     "metadata": {},
     "output_type": "execute_result"
    }
   ],
   "source": [
    "# exporting data\n",
    "base_dir = Path(\"/home/corems/data\")\n",
    "exports_dir = base_dir / \"exports\"\n",
    "\n",
    "# Create output paths for different formats\n",
    "csv_file = exports_dir / \"Ansulite_AC5_CoreMS.csv\"\n",
    "\n",
    "# Save in different formats\n",
    "mass_spectrum.to_csv(str(csv_file))\n",
    "\n",
    "# get pandas Dataframe\n",
    "df = mass_spectrum.to_dataframe()\n",
    "df.head()"
   ]
  },
  {
   "cell_type": "markdown",
   "metadata": {},
   "source": [
    "`mass_spectrum.to_csv` and `mass_spectrum.to_dataframe` produce tables with the following columns."
   ]
  },
  {
   "cell_type": "code",
   "execution_count": 12,
   "metadata": {},
   "outputs": [
    {
     "name": "stdout",
     "output_type": "stream",
     "text": [
      "Index\n",
      "m/z\n",
      "Calibrated m/z\n",
      "Calculated m/z\n",
      "Peak Height\n",
      "Peak Area\n",
      "Resolving Power\n",
      "S/N\n",
      "Ion Charge\n",
      "m/z Error (ppm)\n",
      "m/z Error Score\n",
      "Isotopologue Similarity\n",
      "Confidence Score\n",
      "DBE\n",
      "O/C\n",
      "H/C\n",
      "Heteroatom Class\n",
      "Ion Type\n",
      "Adduct\n",
      "Is Isotopologue\n",
      "Mono Isotopic Index\n",
      "Molecular Formula\n",
      "KMD\n",
      "Formula KMD\n",
      "C\n",
      "H\n",
      "O\n",
      "N\n",
      "S\n",
      "13C\n",
      "15N\n",
      "17O\n",
      "18O\n",
      "33S\n",
      "34S\n"
     ]
    }
   ],
   "source": [
    "for col in df.columns:\n",
    "    print(col)"
   ]
  }
 ],
 "metadata": {
  "kernelspec": {
   "display_name": "Python 3",
   "language": "python",
   "name": "python3"
  },
  "language_info": {
   "codemirror_mode": {
    "name": "ipython",
    "version": 3
   },
   "file_extension": ".py",
   "mimetype": "text/x-python",
   "name": "python",
   "nbconvert_exporter": "python",
   "pygments_lexer": "ipython3",
   "version": "3.10.16"
  }
 },
 "nbformat": 4,
 "nbformat_minor": 4
}
